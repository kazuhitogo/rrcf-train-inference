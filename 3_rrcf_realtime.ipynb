{
 "cells": [
  {
   "cell_type": "code",
   "execution_count": null,
   "id": "cb10967e",
   "metadata": {},
   "outputs": [],
   "source": [
    "from typing import Final\n",
    "import os\n",
    "import sagemaker\n",
    "from sagemaker.sklearn import SKLearnModel\n",
    "import boto3\n",
    "import json\n",
    "from time import sleep\n",
    "import glob\n",
    "import pandas as pd\n",
    "import io\n",
    "from matplotlib import pyplot as plt\n",
    "\n",
    "smr_client:Final = boto3.client('sagemaker-runtime')\n",
    "sm_client:Final = boto3.client('sagemaker')\n",
    "s3_client:Final = boto3.client('s3')\n",
    "endpoint_inservice_waiter:Final = sm_client.get_waiter('endpoint_in_service')\n",
    "role: Final[str] = sagemaker.get_execution_role()\n",
    "region: Final[str] = sagemaker.Session().boto_region_name\n",
    "sess = sagemaker.session.Session()\n",
    "bucket = sess.default_bucket()"
   ]
  },
  {
   "cell_type": "markdown",
   "id": "1f619389",
   "metadata": {},
   "source": [
    "## 推論データ作成"
   ]
  },
  {
   "cell_type": "code",
   "execution_count": null,
   "id": "d89c895d",
   "metadata": {},
   "outputs": [],
   "source": [
    "data_dir = 'rt_inf_dataset'\n",
    "!rm -rf {data_dir}\n",
    "!mkdir -p {data_dir}\n",
    "target_dir = glob.glob('train_dataset/**/**/**/**/value')\n",
    "for i,target_dir in enumerate(target_dir):\n",
    "    csv_list = sorted(glob.glob(os.path.join(target_dir,'*.csv')))\n",
    "    df_list = [pd.read_csv(csv_file, header=None) for csv_file in csv_list]\n",
    "    df = pd.concat(df_list, ignore_index=True)\n",
    "    df.to_csv(os.path.join(data_dir,f'{str(i)}.csv'),index=False)"
   ]
  },
  {
   "cell_type": "markdown",
   "id": "0bec8958",
   "metadata": {},
   "source": [
    "## 推論コード作成"
   ]
  },
  {
   "cell_type": "code",
   "execution_count": null,
   "id": "3ac2021d",
   "metadata": {},
   "outputs": [],
   "source": [
    "source_dir:Final[str] = 'rt_inf_src/'\n",
    "!rm -rf {source_dir}\n",
    "!mkdir {source_dir}"
   ]
  },
  {
   "cell_type": "code",
   "execution_count": null,
   "id": "78ba0541",
   "metadata": {},
   "outputs": [],
   "source": [
    "%%writefile rt_inf_src/requirements.txt\n",
    "rrcf==0.4.3\n",
    "dill==0.3.4"
   ]
  },
  {
   "cell_type": "code",
   "execution_count": null,
   "id": "8c6025df",
   "metadata": {},
   "outputs": [],
   "source": [
    "%%writefile rt_inf_src/inference.py\n",
    "import pandas as pd\n",
    "import io\n",
    "import rrcf\n",
    "import numpy as np\n",
    "from scipy import stats\n",
    "import logging\n",
    "import sys\n",
    "logger = logging.getLogger(__name__)\n",
    "logger.setLevel(logging.INFO)\n",
    "logger.addHandler(logging.StreamHandler(sys.stdout))\n",
    "\n",
    "hps={\n",
    "    'num_trees':128,\n",
    "    'shingle_size':10,\n",
    "    'tree_size':1024\n",
    "}\n",
    "\n",
    "def calc_score(df):\n",
    "    # RCF 準備\n",
    "    logger.debug('preparing RCF...')\n",
    "    data = df[0].astype(float).values\n",
    "    points = rrcf.shingle(data, size=hps['shingle_size'])\n",
    "    points = np.vstack([point for point in points])\n",
    "    n = points.shape[0]\n",
    "    sample_size_range = (n // hps['tree_size'], hps['tree_size'])\n",
    "    logger.debug('prepared RCF')\n",
    "    \n",
    "    # RCF を生成\n",
    "    logger.debug('generating RCF...')\n",
    "    forest = []\n",
    "    while len(forest) < hps['num_trees']:\n",
    "        ixs = np.random.choice(n, size=sample_size_range,\n",
    "                               replace=False)\n",
    "        trees = [rrcf.RCTree(points[ix], index_labels=ix) for ix in ixs]\n",
    "        forest.extend(trees)\n",
    "    logger.debug('generated RCF')\n",
    "    \n",
    "    # 異常スコア算出\n",
    "    logger.debug('calculating score...')\n",
    "    avg_codisp = pd.Series(0.0, index=np.arange(n))\n",
    "    index = np.zeros(n)\n",
    "    for tree in forest:\n",
    "        codisp = pd.Series({leaf : tree.codisp(leaf) for leaf in tree.leaves})\n",
    "        avg_codisp[codisp.index] += codisp\n",
    "        np.add.at(index, codisp.index.values, 1)\n",
    "    avg_codisp /= index\n",
    "    logger.debug('calculated score')\n",
    "    \n",
    "    # result の整理\n",
    "    logger.debug('organizing score...')\n",
    "    columns = [i for i in range(points.shape[1])]\n",
    "    result_df = pd.DataFrame(points, columns=columns, dtype='float')\n",
    "    result_df['score'] = pd.Series(avg_codisp)\n",
    "    result_df['scaled_score'] = result_df['score']/result_df['score'].max()\n",
    "    \n",
    "    logger.debug('organized score')\n",
    "    return result_df, forest\n",
    "\n",
    "def calc_threshold(df):\n",
    "    logger.debug('calculating calc_threshold...')\n",
    "    df['zscore'] = stats.zscore(df['score'])\n",
    "    df['anomaly'] = df['zscore'].apply(lambda x: True if x>3 else False)\n",
    "    return df\n",
    "\n",
    "def model_fn(model_dir):\n",
    "    return None\n",
    "def input_fn(input_data, content_type):\n",
    "    if content_type=='text/csv':\n",
    "        df = pd.read_csv(io.StringIO(input_data), header=None)\n",
    "    else:\n",
    "        raise TypeError('allowed only text/csv')\n",
    "    return df\n",
    "def predict_fn(transformed_data, model):\n",
    "    result_df, forest = calc_score(transformed_data)\n",
    "    result_df = calc_threshold(result_df)\n",
    "    return result_df\n",
    "def output_fn(df, accept_type):\n",
    "    buffer = io.StringIO()\n",
    "    df.to_csv(buffer, index=False)\n",
    "    return buffer.getvalue()"
   ]
  },
  {
   "cell_type": "markdown",
   "id": "f835269a",
   "metadata": {},
   "source": [
    "## 推論コードアップロード"
   ]
  },
  {
   "cell_type": "code",
   "execution_count": null,
   "id": "2d59eaef",
   "metadata": {},
   "outputs": [],
   "source": [
    "%cd {source_dir}\n",
    "!tar zcvf sourcedir.tar.gz ./*\n",
    "%cd .."
   ]
  },
  {
   "cell_type": "code",
   "execution_count": null,
   "id": "6eb5e96b",
   "metadata": {},
   "outputs": [],
   "source": [
    "source_s3_uri:Final[str] = sagemaker.session.Session().upload_data(\n",
    "    f'./{source_dir}/sourcedir.tar.gz',\n",
    "    key_prefix = 'rrcf_rt'\n",
    ")\n",
    "print(source_s3_uri)"
   ]
  },
  {
   "cell_type": "markdown",
   "id": "d78b2962",
   "metadata": {},
   "source": [
    "## 推論エンドポイント作成"
   ]
  },
  {
   "cell_type": "code",
   "execution_count": null,
   "id": "f869eb35",
   "metadata": {},
   "outputs": [],
   "source": [
    "# 名前の設定\n",
    "model_name: Final[str] = 'rrcf-rt'\n",
    "endpoint_config_name: Final[str] = model_name + 'EndpointConfig'\n",
    "endpoint_name: Final[str] = model_name + 'Endpoint'\n",
    "role: Final[str] = sagemaker.get_execution_role()"
   ]
  },
  {
   "cell_type": "code",
   "execution_count": null,
   "id": "c7456c59",
   "metadata": {},
   "outputs": [],
   "source": [
    "# コンテナイメージの URI を取得\n",
    "container_image_uri: Final[str] = sagemaker.image_uris.retrieve(\n",
    "    \"sklearn\",  # SKLearn のマネージドコンテナを利用\n",
    "    sagemaker.session.Session().boto_region_name, # ECR のリージョンを指定\n",
    "    version='1.0-1', # SKLearn のバージョンを指定\n",
    "    instance_type = 'ml.m5.large', # インスタンスタイプを指定\n",
    "    image_scope = 'inference' # 推論コンテナを指定\n",
    ")\n",
    "print(container_image_uri)"
   ]
  },
  {
   "cell_type": "code",
   "execution_count": null,
   "id": "8e97cb3d",
   "metadata": {},
   "outputs": [],
   "source": [
    "# Model 作成\n",
    "response = sm_client.create_model(\n",
    "    ModelName=model_name,\n",
    "    PrimaryContainer={\n",
    "        'Image': container_image_uri,\n",
    "        'Environment': {\n",
    "            'SAGEMAKER_CONTAINER_LOG_LEVEL': '20',\n",
    "            'SAGEMAKER_PROGRAM': 'inference.py',\n",
    "            'SAGEMAKER_REGION': region,\n",
    "            'SAGEMAKER_SUBMIT_DIRECTORY': source_s3_uri}\n",
    "    },\n",
    "    ExecutionRoleArn=role,\n",
    ")\n",
    "# EndpointConfig 作成\n",
    "response = sm_client.create_endpoint_config(\n",
    "    EndpointConfigName=endpoint_config_name,\n",
    "    ProductionVariants=[\n",
    "        {\n",
    "            'VariantName': 'AllTrafic',\n",
    "            'ModelName': model_name,\n",
    "            'InitialInstanceCount': 1,\n",
    "            'InstanceType': 'ml.m5.large',\n",
    "        },\n",
    "    ],\n",
    ")\n",
    "# Endpoint 作成\n",
    "response = sm_client.create_endpoint(\n",
    "    EndpointName=endpoint_name,\n",
    "    EndpointConfigName=endpoint_config_name,\n",
    ")\n",
    "# Endpoint が有効化されるまで待つ\n",
    "endpoint_inservice_waiter.wait(\n",
    "    EndpointName=endpoint_name,\n",
    "    WaiterConfig={'Delay': 5,}\n",
    ")"
   ]
  },
  {
   "cell_type": "markdown",
   "id": "f0752fd6",
   "metadata": {},
   "source": [
    "## 推論"
   ]
  },
  {
   "cell_type": "code",
   "execution_count": null,
   "id": "c5bcf4ae",
   "metadata": {},
   "outputs": [],
   "source": [
    "with open('rt_inf_dataset/0.csv','rt') as f:\n",
    "    csv = f.read()"
   ]
  },
  {
   "cell_type": "code",
   "execution_count": null,
   "id": "c30470f4",
   "metadata": {},
   "outputs": [],
   "source": [
    "%%time\n",
    "response = smr_client.invoke_endpoint(\n",
    "    EndpointName=endpoint_name, \n",
    "    Body=csv,\n",
    "    ContentType='text/csv',\n",
    "    Accept='text/csv',\n",
    ")"
   ]
  },
  {
   "cell_type": "code",
   "execution_count": null,
   "id": "09e470f8",
   "metadata": {},
   "outputs": [],
   "source": [
    "result = response['Body'].read().decode('utf-8')\n",
    "result_df = pd.read_csv(io.StringIO(result))\n",
    "result_df"
   ]
  },
  {
   "cell_type": "code",
   "execution_count": null,
   "id": "fef36c61",
   "metadata": {},
   "outputs": [],
   "source": [
    "fig = plt.figure(figsize=(12,8))\n",
    "ax1 = fig.add_subplot(3,1,1)\n",
    "for col in result_df.columns.values[:-4]:\n",
    "    ax1.plot(result_df[col])\n",
    "ax2 = fig.add_subplot(3,1,2)\n",
    "ax2.plot(result_df['score'])\n",
    "ax3 = fig.add_subplot(3,1,3)\n",
    "ax3.plot(result_df['anomaly'])"
   ]
  },
  {
   "cell_type": "code",
   "execution_count": null,
   "id": "e0d3e37b",
   "metadata": {},
   "outputs": [],
   "source": [
    "with open('rt_inf_dataset/1.csv','rt') as f:\n",
    "    csv = f.read()"
   ]
  },
  {
   "cell_type": "code",
   "execution_count": null,
   "id": "17cb6fe3",
   "metadata": {},
   "outputs": [],
   "source": [
    "%%time\n",
    "response = smr_client.invoke_endpoint(\n",
    "    EndpointName=endpoint_name, \n",
    "    Body=csv,\n",
    "    ContentType='text/csv',\n",
    "    Accept='text/csv',\n",
    ")"
   ]
  },
  {
   "cell_type": "code",
   "execution_count": null,
   "id": "001b162b",
   "metadata": {},
   "outputs": [],
   "source": [
    "result = response['Body'].read().decode('utf-8')\n",
    "result_df = pd.read_csv(io.StringIO(result))\n",
    "result_df"
   ]
  },
  {
   "cell_type": "code",
   "execution_count": null,
   "id": "9ae0f195",
   "metadata": {},
   "outputs": [],
   "source": [
    "fig = plt.figure(figsize=(12,8))\n",
    "ax1 = fig.add_subplot(3,1,1)\n",
    "for col in result_df.columns.values[:-4]:\n",
    "    ax1.plot(result_df[col])\n",
    "ax2 = fig.add_subplot(3,1,2)\n",
    "ax2.plot(result_df['score'])\n",
    "ax3 = fig.add_subplot(3,1,3)\n",
    "ax3.plot(result_df['anomaly'])"
   ]
  },
  {
   "cell_type": "code",
   "execution_count": null,
   "id": "16f5ea08",
   "metadata": {},
   "outputs": [],
   "source": [
    "sm_client.delete_endpoint(EndpointName=endpoint_name)\n",
    "sm_client.delete_endpoint_config(EndpointConfigName=endpoint_config_name)\n",
    "sm_client.delete_model(ModelName=model_name)"
   ]
  },
  {
   "cell_type": "code",
   "execution_count": null,
   "id": "9462a9d0",
   "metadata": {},
   "outputs": [],
   "source": []
  }
 ],
 "metadata": {
  "kernelspec": {
   "display_name": "conda_python3",
   "language": "python",
   "name": "conda_python3"
  },
  "language_info": {
   "codemirror_mode": {
    "name": "ipython",
    "version": 3
   },
   "file_extension": ".py",
   "mimetype": "text/x-python",
   "name": "python",
   "nbconvert_exporter": "python",
   "pygments_lexer": "ipython3",
   "version": "3.8.12"
  }
 },
 "nbformat": 4,
 "nbformat_minor": 5
}
