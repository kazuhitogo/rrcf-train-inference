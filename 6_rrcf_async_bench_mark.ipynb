{
 "cells": [
  {
   "cell_type": "markdown",
   "id": "9a8e0947",
   "metadata": {},
   "source": [
    "# 非同期推論による RRCF の学習と推論"
   ]
  },
  {
   "cell_type": "code",
   "execution_count": null,
   "id": "cb10967e",
   "metadata": {},
   "outputs": [],
   "source": [
    "from typing import Final\n",
    "import os\n",
    "import sagemaker\n",
    "from sagemaker.sklearn import SKLearnModel\n",
    "import boto3\n",
    "import json\n",
    "from time import sleep\n",
    "import glob\n",
    "import pandas as pd\n",
    "import io\n",
    "from matplotlib import pyplot as plt\n",
    "\n",
    "smr_client:Final = boto3.client('sagemaker-runtime')\n",
    "sm_client:Final = boto3.client('sagemaker')\n",
    "s3_client:Final = boto3.client('s3')\n",
    "endpoint_inservice_waiter:Final = sm_client.get_waiter('endpoint_in_service')\n",
    "role: Final[str] = sagemaker.get_execution_role()\n",
    "region: Final[str] = sagemaker.Session().boto_region_name\n",
    "sess = sagemaker.session.Session()\n",
    "bucket = sess.default_bucket()"
   ]
  },
  {
   "cell_type": "markdown",
   "id": "8dcd2784",
   "metadata": {},
   "source": [
    "## データ準備\n",
    "* 5_xxx.ipynb のベンチマークデータを使う\n",
    "* ファイルリストを取得する"
   ]
  },
  {
   "cell_type": "code",
   "execution_count": null,
   "id": "2a672913",
   "metadata": {},
   "outputs": [],
   "source": [
    "# s3_base_uri = sess.upload_data('./bench_data/',key_prefix='bench_data')\n",
    "s3_base_uri = 's3://sagemaker-us-east-1-290000338583/bench_data'"
   ]
  },
  {
   "cell_type": "code",
   "execution_count": null,
   "id": "d2c05750",
   "metadata": {
    "scrolled": true
   },
   "outputs": [],
   "source": [
    "file_name_list = sorted(glob.glob('./bench_data/**/*.csv'))\n",
    "file_name_list = ['/'.join(file_name.split('/')[2:]) for file_name in file_name_list]\n",
    "print(*file_name_list)"
   ]
  },
  {
   "cell_type": "markdown",
   "id": "836de63b",
   "metadata": {},
   "source": [
    "## 推論コード作成"
   ]
  },
  {
   "cell_type": "code",
   "execution_count": null,
   "id": "0c083d99",
   "metadata": {},
   "outputs": [],
   "source": [
    "source_dir = 'async_src/'\n",
    "!rm -rf {source_dir}\n",
    "!mkdir {source_dir}"
   ]
  },
  {
   "cell_type": "code",
   "execution_count": null,
   "id": "78ba0541",
   "metadata": {},
   "outputs": [],
   "source": [
    "%%writefile async_src/requirements.txt\n",
    "rrcf==0.4.3\n",
    "dill==0.3.4\n",
    "matplotlib==3.5.3"
   ]
  },
  {
   "cell_type": "code",
   "execution_count": null,
   "id": "8c6025df",
   "metadata": {},
   "outputs": [],
   "source": [
    "%%writefile async_src/inference.py\n",
    "import pandas as pd\n",
    "import io\n",
    "import rrcf\n",
    "import numpy as np\n",
    "from scipy import stats\n",
    "import logging\n",
    "import sys\n",
    "logger = logging.getLogger(__name__)\n",
    "logger.setLevel(logging.INFO)\n",
    "logger.addHandler(logging.StreamHandler(sys.stdout))\n",
    "\n",
    "hps={\n",
    "    'num_trees':128,\n",
    "    'shingle_size':10,\n",
    "    'tree_size':1024\n",
    "}\n",
    "\n",
    "\n",
    "def calc_score(df):\n",
    "    # RCF 準備\n",
    "    logger.debug('preparing RCF...')\n",
    "    data = df[0].astype(float).values\n",
    "    points = rrcf.shingle(data, size=hps['shingle_size'])\n",
    "    points = np.vstack([point for point in points])\n",
    "    n = points.shape[0]\n",
    "    sample_size_range = (n // hps['tree_size'], hps['tree_size'])\n",
    "    logger.debug('prepared RCF')\n",
    "    \n",
    "    # RCF を生成\n",
    "    logger.debug('generating RCF...')\n",
    "    forest = []\n",
    "    while len(forest) < hps['num_trees']:\n",
    "        ixs = np.random.choice(n, size=sample_size_range,\n",
    "                               replace=False)\n",
    "        trees = [rrcf.RCTree(points[ix], index_labels=ix) for ix in ixs]\n",
    "        forest.extend(trees)\n",
    "    logger.debug('generated RCF')\n",
    "    \n",
    "    # 異常スコア算出\n",
    "    logger.debug('calculating score...')\n",
    "    avg_codisp = pd.Series(0.0, index=np.arange(n))\n",
    "    index = np.zeros(n)\n",
    "    for tree in forest:\n",
    "        codisp = pd.Series({leaf : tree.codisp(leaf) for leaf in tree.leaves})\n",
    "        avg_codisp[codisp.index] += codisp\n",
    "        np.add.at(index, codisp.index.values, 1)\n",
    "    avg_codisp /= index\n",
    "    logger.debug('calculated score')\n",
    "    \n",
    "    # result の整理\n",
    "    logger.debug('organizing score...')\n",
    "    columns = [i for i in range(points.shape[1])]\n",
    "    result_df = pd.DataFrame(points, columns=columns, dtype='float')\n",
    "    result_df['score'] = pd.Series(avg_codisp)\n",
    "    result_df['scaled_score'] = result_df['score']/result_df['score'].max()\n",
    "    \n",
    "    logger.debug('organized score')\n",
    "    return result_df, forest\n",
    "\n",
    "def calc_threshold(df):\n",
    "    logger.debug('calculating calc_threshold...')\n",
    "    df['zscore'] = stats.zscore(df['score'])\n",
    "    df['anomaly'] = df['zscore'].apply(lambda x: True if x>3 else False)\n",
    "    return df\n",
    "\n",
    "def model_fn(model_dir):\n",
    "    return None\n",
    "def input_fn(input_data, content_type):\n",
    "    if content_type=='text/csv':\n",
    "        df = pd.read_csv(io.StringIO(input_data), header=None)\n",
    "    else:\n",
    "        raise TypeError('allowed only text/csv')\n",
    "    return df\n",
    "def predict_fn(transformed_data, model):\n",
    "    result_df, forest = calc_score(transformed_data)\n",
    "    result_df = calc_threshold(result_df)\n",
    "    return result_df\n",
    "def output_fn(df, accept_type):\n",
    "    buffer = io.StringIO()\n",
    "    df.to_csv(buffer, index=False)\n",
    "    return buffer.getvalue()"
   ]
  },
  {
   "cell_type": "markdown",
   "id": "19232cda",
   "metadata": {},
   "source": [
    "## 推論コードアップロード"
   ]
  },
  {
   "cell_type": "code",
   "execution_count": null,
   "id": "2d59eaef",
   "metadata": {},
   "outputs": [],
   "source": [
    "%cd {source_dir}\n",
    "!tar zcvf sourcedir.tar.gz ./*\n",
    "%cd .."
   ]
  },
  {
   "cell_type": "code",
   "execution_count": null,
   "id": "6eb5e96b",
   "metadata": {},
   "outputs": [],
   "source": [
    "source_s3_uri:Final[str] = sagemaker.session.Session().upload_data(\n",
    "    f'./{source_dir}/sourcedir.tar.gz',\n",
    "    key_prefix = 'rrcf_async'\n",
    ")\n",
    "print(source_s3_uri)"
   ]
  },
  {
   "cell_type": "markdown",
   "id": "a74e803c",
   "metadata": {},
   "source": [
    "## 非同期推論エンドポイント作成"
   ]
  },
  {
   "cell_type": "code",
   "execution_count": null,
   "id": "f869eb35",
   "metadata": {},
   "outputs": [],
   "source": [
    "# 名前の設定\n",
    "model_name: Final[str] = 'rrcf-async'\n",
    "endpoint_config_name: Final[str] = model_name + 'EndpointConfig'\n",
    "endpoint_name: Final[str] = model_name + 'Endpoint'\n",
    "role: Final[str] = sagemaker.get_execution_role()"
   ]
  },
  {
   "cell_type": "code",
   "execution_count": null,
   "id": "c7456c59",
   "metadata": {},
   "outputs": [],
   "source": [
    "# コンテナイメージの URI を取得\n",
    "container_image_uri: Final[str] = sagemaker.image_uris.retrieve(\n",
    "    \"sklearn\",  # SKLearn のマネージドコンテナを利用\n",
    "    sagemaker.session.Session().boto_region_name, # ECR のリージョンを指定\n",
    "    version='1.0-1', # SKLearn のバージョンを指定\n",
    "    instance_type = 'ml.c5.xlarge', # インスタンスタイプを指定\n",
    "    image_scope = 'inference' # 推論コンテナを指定\n",
    ")\n",
    "print(container_image_uri)"
   ]
  },
  {
   "cell_type": "markdown",
   "id": "2434a5d3",
   "metadata": {},
   "source": [
    "## c5.9xlarge"
   ]
  },
  {
   "cell_type": "code",
   "execution_count": null,
   "id": "8e97cb3d",
   "metadata": {},
   "outputs": [],
   "source": [
    "# Model 作成\n",
    "response = sm_client.create_model(\n",
    "    ModelName=model_name,\n",
    "    PrimaryContainer={\n",
    "        'Image': container_image_uri,\n",
    "        'Environment': {\n",
    "            'SAGEMAKER_CONTAINER_LOG_LEVEL': '20',\n",
    "            'SAGEMAKER_PROGRAM': 'inference.py',\n",
    "            'SAGEMAKER_REGION': region,\n",
    "            'SAGEMAKER_SUBMIT_DIRECTORY': source_s3_uri}\n",
    "    },\n",
    "    ExecutionRoleArn=role,\n",
    ")\n",
    "# EndpointConfig 作成\n",
    "response = sm_client.create_endpoint_config(\n",
    "    EndpointConfigName=endpoint_config_name,\n",
    "    ProductionVariants=[\n",
    "        {\n",
    "            'VariantName': 'AllTrafic',\n",
    "            'ModelName': model_name,\n",
    "            'InitialInstanceCount':1,\n",
    "            'InstanceType': 'ml.c5.9xlarge',\n",
    "        },\n",
    "    ],\n",
    "    AsyncInferenceConfig={\n",
    "        \"OutputConfig\": {\n",
    "            \"S3OutputPath\": f\"s3://{bucket}/rrcf_async/output\"\n",
    "        },\n",
    "    }\n",
    ")\n",
    "# Endpoint 作成\n",
    "response = sm_client.create_endpoint(\n",
    "    EndpointName=endpoint_name,\n",
    "    EndpointConfigName=endpoint_config_name,\n",
    ")\n",
    "# Endpoint が有効化されるまで待つ\n",
    "endpoint_inservice_waiter.wait(\n",
    "    EndpointName=endpoint_name,\n",
    "    WaiterConfig={'Delay': 5,}\n",
    ")"
   ]
  },
  {
   "cell_type": "markdown",
   "id": "4a1400fd",
   "metadata": {},
   "source": [
    "## 非同期推論"
   ]
  },
  {
   "cell_type": "code",
   "execution_count": null,
   "id": "149e969c",
   "metadata": {},
   "outputs": [],
   "source": [
    "%%time\n",
    "output_key_list = []\n",
    "# 推論キュー追加\n",
    "for file_name in file_name_list:\n",
    "    response = smr_client.invoke_endpoint_async(\n",
    "        EndpointName=endpoint_name, \n",
    "        InputLocation=f'{s3_base_uri}/{file_name}',\n",
    "        ContentType='text/csv',\n",
    "        Accept='text/csv',\n",
    "    )\n",
    "    output_s3_uri = response['OutputLocation']\n",
    "    output_key = output_s3_uri.replace(f's3://{bucket}/','')\n",
    "    output_key_list.append(output_key)\n",
    "# 推論完了確認\n",
    "for output_key in output_key_list:    \n",
    "    while True:\n",
    "        result = s3_client.list_objects(Bucket=bucket, Prefix=output_key)\n",
    "        exists = True if \"Contents\" in result else False\n",
    "        if exists:\n",
    "            break\n",
    "        else:\n",
    "            sleep(0.1)"
   ]
  },
  {
   "cell_type": "code",
   "execution_count": null,
   "id": "16f5ea08",
   "metadata": {},
   "outputs": [],
   "source": [
    "sm_client.delete_endpoint(EndpointName=endpoint_name)\n",
    "sm_client.delete_endpoint_config(EndpointConfigName=endpoint_config_name)\n",
    "sm_client.delete_model(ModelName=model_name)"
   ]
  },
  {
   "cell_type": "markdown",
   "id": "59d1947e",
   "metadata": {},
   "source": [
    "## c5.xlarge x 1"
   ]
  },
  {
   "cell_type": "code",
   "execution_count": null,
   "id": "9462a9d0",
   "metadata": {},
   "outputs": [],
   "source": [
    "# Model 作成\n",
    "response = sm_client.create_model(\n",
    "    ModelName=model_name,\n",
    "    PrimaryContainer={\n",
    "        'Image': container_image_uri,\n",
    "        'Environment': {\n",
    "            'SAGEMAKER_CONTAINER_LOG_LEVEL': '20',\n",
    "            'SAGEMAKER_PROGRAM': 'inference.py',\n",
    "            'SAGEMAKER_REGION': region,\n",
    "            'SAGEMAKER_SUBMIT_DIRECTORY': source_s3_uri}\n",
    "    },\n",
    "    ExecutionRoleArn=role,\n",
    ")\n",
    "# EndpointConfig 作成\n",
    "response = sm_client.create_endpoint_config(\n",
    "    EndpointConfigName=endpoint_config_name,\n",
    "    ProductionVariants=[\n",
    "        {\n",
    "            'VariantName': 'AllTrafic',\n",
    "            'ModelName': model_name,\n",
    "            'InitialInstanceCount': 1,\n",
    "            'InstanceType': 'ml.c5.xlarge',\n",
    "        },\n",
    "    ],\n",
    "    AsyncInferenceConfig={\n",
    "        \"OutputConfig\": {\n",
    "            \"S3OutputPath\": f\"s3://{bucket}/rrcf_async/output\"\n",
    "        },\n",
    "    }\n",
    ")\n",
    "# Endpoint 作成\n",
    "response = sm_client.create_endpoint(\n",
    "    EndpointName=endpoint_name,\n",
    "    EndpointConfigName=endpoint_config_name,\n",
    ")\n",
    "# Endpoint が有効化されるまで待つ\n",
    "endpoint_inservice_waiter.wait(\n",
    "    EndpointName=endpoint_name,\n",
    "    WaiterConfig={'Delay': 5,}\n",
    ")"
   ]
  },
  {
   "cell_type": "code",
   "execution_count": null,
   "id": "94db3273",
   "metadata": {},
   "outputs": [],
   "source": [
    "%%time\n",
    "output_key_list = []\n",
    "# 推論キュー追加\n",
    "for file_name in file_name_list:\n",
    "    response = smr_client.invoke_endpoint_async(\n",
    "        EndpointName=endpoint_name, \n",
    "        InputLocation=f'{s3_base_uri}/{file_name}',\n",
    "        ContentType='text/csv',\n",
    "        Accept='text/csv',\n",
    "    )\n",
    "    output_s3_uri = response['OutputLocation']\n",
    "    output_key = output_s3_uri.replace(f's3://{bucket}/','')\n",
    "    output_key_list.append(output_key)\n",
    "# 推論完了確認\n",
    "for output_key in output_key_list:    \n",
    "    while True:\n",
    "        result = s3_client.list_objects(Bucket=bucket, Prefix=output_key)\n",
    "        exists = True if \"Contents\" in result else False\n",
    "        if exists:\n",
    "            break\n",
    "        else:\n",
    "            sleep(0.1)"
   ]
  },
  {
   "cell_type": "code",
   "execution_count": null,
   "id": "4da54852",
   "metadata": {},
   "outputs": [],
   "source": [
    "sm_client.delete_endpoint(EndpointName=endpoint_name)\n",
    "sm_client.delete_endpoint_config(EndpointConfigName=endpoint_config_name)\n",
    "sm_client.delete_model(ModelName=model_name)"
   ]
  },
  {
   "cell_type": "markdown",
   "id": "f3c870f2",
   "metadata": {},
   "source": [
    "## c5.xlarge x 8"
   ]
  },
  {
   "cell_type": "code",
   "execution_count": null,
   "id": "3b578d70",
   "metadata": {},
   "outputs": [],
   "source": [
    "# Model 作成\n",
    "response = sm_client.create_model(\n",
    "    ModelName=model_name,\n",
    "    PrimaryContainer={\n",
    "        'Image': container_image_uri,\n",
    "        'Environment': {\n",
    "            'SAGEMAKER_CONTAINER_LOG_LEVEL': '20',\n",
    "            'SAGEMAKER_PROGRAM': 'inference.py',\n",
    "            'SAGEMAKER_REGION': region,\n",
    "            'SAGEMAKER_SUBMIT_DIRECTORY': source_s3_uri}\n",
    "    },\n",
    "    ExecutionRoleArn=role,\n",
    ")\n",
    "# EndpointConfig 作成\n",
    "response = sm_client.create_endpoint_config(\n",
    "    EndpointConfigName=endpoint_config_name,\n",
    "    ProductionVariants=[\n",
    "        {\n",
    "            'VariantName': 'AllTrafic',\n",
    "            'ModelName': model_name,\n",
    "            'InitialInstanceCount': 8,\n",
    "            'InstanceType': 'ml.c5.xlarge',\n",
    "        },\n",
    "    ],\n",
    "    AsyncInferenceConfig={\n",
    "        \"OutputConfig\": {\n",
    "            \"S3OutputPath\": f\"s3://{bucket}/rrcf_async/output\"\n",
    "        },\n",
    "    }\n",
    ")\n",
    "# Endpoint 作成\n",
    "response = sm_client.create_endpoint(\n",
    "    EndpointName=endpoint_name,\n",
    "    EndpointConfigName=endpoint_config_name,\n",
    ")\n",
    "# Endpoint が有効化されるまで待つ\n",
    "endpoint_inservice_waiter.wait(\n",
    "    EndpointName=endpoint_name,\n",
    "    WaiterConfig={'Delay': 5,}\n",
    ")"
   ]
  },
  {
   "cell_type": "code",
   "execution_count": null,
   "id": "9fa3294d",
   "metadata": {},
   "outputs": [],
   "source": [
    "%%time\n",
    "output_key_list = []\n",
    "# 推論キュー追加\n",
    "for file_name in file_name_list:\n",
    "    response = smr_client.invoke_endpoint_async(\n",
    "        EndpointName=endpoint_name, \n",
    "        InputLocation=f'{s3_base_uri}/{file_name}',\n",
    "        ContentType='text/csv',\n",
    "        Accept='text/csv',\n",
    "    )\n",
    "    output_s3_uri = response['OutputLocation']\n",
    "    output_key = output_s3_uri.replace(f's3://{bucket}/','')\n",
    "    output_key_list.append(output_key)\n",
    "# 推論完了確認\n",
    "for output_key in output_key_list:    \n",
    "    while True:\n",
    "        result = s3_client.list_objects(Bucket=bucket, Prefix=output_key)\n",
    "        exists = True if \"Contents\" in result else False\n",
    "        if exists:\n",
    "            break\n",
    "        else:\n",
    "            sleep(0.1)"
   ]
  },
  {
   "cell_type": "code",
   "execution_count": null,
   "id": "1e3368a3",
   "metadata": {},
   "outputs": [],
   "source": [
    "sm_client.delete_endpoint(EndpointName=endpoint_name)\n",
    "sm_client.delete_endpoint_config(EndpointConfigName=endpoint_config_name)\n",
    "sm_client.delete_model(ModelName=model_name)"
   ]
  },
  {
   "cell_type": "markdown",
   "id": "ad467897",
   "metadata": {},
   "source": [
    "## c5.4xlarge x 2"
   ]
  },
  {
   "cell_type": "code",
   "execution_count": null,
   "id": "4ac5211c",
   "metadata": {},
   "outputs": [],
   "source": [
    "# Model 作成\n",
    "response = sm_client.create_model(\n",
    "    ModelName=model_name,\n",
    "    PrimaryContainer={\n",
    "        'Image': container_image_uri,\n",
    "        'Environment': {\n",
    "            'SAGEMAKER_CONTAINER_LOG_LEVEL': '20',\n",
    "            'SAGEMAKER_PROGRAM': 'inference.py',\n",
    "            'SAGEMAKER_REGION': region,\n",
    "            'SAGEMAKER_SUBMIT_DIRECTORY': source_s3_uri}\n",
    "    },\n",
    "    ExecutionRoleArn=role,\n",
    ")\n",
    "# EndpointConfig 作成\n",
    "response = sm_client.create_endpoint_config(\n",
    "    EndpointConfigName=endpoint_config_name,\n",
    "    ProductionVariants=[\n",
    "        {\n",
    "            'VariantName': 'AllTrafic',\n",
    "            'ModelName': model_name,\n",
    "            'InitialInstanceCount': 2,\n",
    "            'InstanceType': 'ml.c5.4xlarge',\n",
    "        },\n",
    "    ],\n",
    "    AsyncInferenceConfig={\n",
    "        \"OutputConfig\": {\n",
    "            \"S3OutputPath\": f\"s3://{bucket}/rrcf_async/output\"\n",
    "        },\n",
    "    }\n",
    ")\n",
    "# Endpoint 作成\n",
    "response = sm_client.create_endpoint(\n",
    "    EndpointName=endpoint_name,\n",
    "    EndpointConfigName=endpoint_config_name,\n",
    ")\n",
    "# Endpoint が有効化されるまで待つ\n",
    "endpoint_inservice_waiter.wait(\n",
    "    EndpointName=endpoint_name,\n",
    "    WaiterConfig={'Delay': 5,}\n",
    ")"
   ]
  },
  {
   "cell_type": "code",
   "execution_count": null,
   "id": "b1c277eb",
   "metadata": {},
   "outputs": [],
   "source": [
    "%%time\n",
    "output_key_list = []\n",
    "# 推論キュー追加\n",
    "for file_name in file_name_list:\n",
    "    response = smr_client.invoke_endpoint_async(\n",
    "        EndpointName=endpoint_name, \n",
    "        InputLocation=f'{s3_base_uri}/{file_name}',\n",
    "        ContentType='text/csv',\n",
    "        Accept='text/csv',\n",
    "    )\n",
    "    output_s3_uri = response['OutputLocation']\n",
    "    output_key = output_s3_uri.replace(f's3://{bucket}/','')\n",
    "    output_key_list.append(output_key)\n",
    "# 推論完了確認\n",
    "for output_key in output_key_list:    \n",
    "    while True:\n",
    "        result = s3_client.list_objects(Bucket=bucket, Prefix=output_key)\n",
    "        exists = True if \"Contents\" in result else False\n",
    "        if exists:\n",
    "            break\n",
    "        else:\n",
    "            sleep(0.1)"
   ]
  },
  {
   "cell_type": "code",
   "execution_count": null,
   "id": "4d58d7bc",
   "metadata": {},
   "outputs": [],
   "source": [
    "sm_client.delete_endpoint(EndpointName=endpoint_name)\n",
    "sm_client.delete_endpoint_config(EndpointConfigName=endpoint_config_name)\n",
    "sm_client.delete_model(ModelName=model_name)"
   ]
  },
  {
   "cell_type": "code",
   "execution_count": null,
   "id": "865d53bf",
   "metadata": {},
   "outputs": [],
   "source": []
  }
 ],
 "metadata": {
  "kernelspec": {
   "display_name": "conda_python3",
   "language": "python",
   "name": "conda_python3"
  },
  "language_info": {
   "codemirror_mode": {
    "name": "ipython",
    "version": 3
   },
   "file_extension": ".py",
   "mimetype": "text/x-python",
   "name": "python",
   "nbconvert_exporter": "python",
   "pygments_lexer": "ipython3",
   "version": "3.8.12"
  }
 },
 "nbformat": 4,
 "nbformat_minor": 5
}
