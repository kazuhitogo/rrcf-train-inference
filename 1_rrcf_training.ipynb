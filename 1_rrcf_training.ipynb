{
 "cells": [
  {
   "cell_type": "markdown",
   "id": "ea5a5745",
   "metadata": {},
   "source": [
    "# RRCF を SageMaker Training Job で動かす"
   ]
  },
  {
   "cell_type": "code",
   "execution_count": null,
   "id": "7410d45f",
   "metadata": {
    "scrolled": true
   },
   "outputs": [],
   "source": [
    "!pip install sagemaker dill -U "
   ]
  },
  {
   "cell_type": "code",
   "execution_count": null,
   "id": "193b3147",
   "metadata": {},
   "outputs": [],
   "source": [
    "from typing import Final\n",
    "import sagemaker, dill, os, glob\n",
    "import pandas as pd\n",
    "import numpy as np\n",
    "bucket: Final[str] = sagemaker.session.Session().default_bucket()\n",
    "roke: Final[str] = sagemaker.get_execution_role()\n",
    "sess = sagemaker.session.Session()"
   ]
  },
  {
   "cell_type": "markdown",
   "id": "b25600d6",
   "metadata": {},
   "source": [
    "## 使用するデータを S3 にアップロード"
   ]
  },
  {
   "cell_type": "code",
   "execution_count": null,
   "id": "e11c5f4f",
   "metadata": {},
   "outputs": [],
   "source": [
    "s3_base_uri = sess.upload_data('./train_dataset/',key_prefix='training_data')"
   ]
  },
  {
   "cell_type": "markdown",
   "id": "9ad8a8e7",
   "metadata": {},
   "source": [
    "## トレーニングジョブで使用するライブラリ"
   ]
  },
  {
   "cell_type": "code",
   "execution_count": null,
   "id": "ee116ecd",
   "metadata": {},
   "outputs": [],
   "source": [
    "!rm -rf training_src\n",
    "!mkdir -p training_src"
   ]
  },
  {
   "cell_type": "code",
   "execution_count": null,
   "id": "d6286a57",
   "metadata": {},
   "outputs": [],
   "source": [
    "%%writefile training_src/requirements.txt\n",
    "rrcf==0.4.3\n",
    "dill==0.3.4\n",
    "matplotlib==3.5.3"
   ]
  },
  {
   "cell_type": "markdown",
   "id": "05cbd4b6",
   "metadata": {},
   "source": [
    "## トレーニングジョブで使用するコード"
   ]
  },
  {
   "cell_type": "code",
   "execution_count": null,
   "id": "ca9dc59e",
   "metadata": {},
   "outputs": [],
   "source": [
    "%%writefile training_src/train.py\n",
    "import rrcf\n",
    "import os, glob\n",
    "import pandas as pd\n",
    "import numpy as np\n",
    "import dill\n",
    "import json\n",
    "from matplotlib import pyplot as plt\n",
    "from scipy import stats\n",
    "from typing import Final\n",
    "import logging\n",
    "import sys\n",
    "logger = logging.getLogger(__name__)\n",
    "logger.setLevel(logging.INFO)\n",
    "logger.addHandler(logging.StreamHandler(sys.stdout))\n",
    "\n",
    "# ハイパーパラメータ取得\n",
    "def get_hps():\n",
    "    logger.debug('setting hyperparameters...')\n",
    "    hps: Final[dict] = json.loads(os.environ.get('SM_HPS'))\n",
    "    # 設定されていなかった場合のデフォルト値\n",
    "    hps.setdefault('num_trees', 50)\n",
    "    hps.setdefault('shingle_size', 3)\n",
    "    hps.setdefault('tree_size', 512)\n",
    "    logger.debug('got hyperparameters...')\n",
    "    logger.info('hps is ...')\n",
    "    logger.info(hps)\n",
    "    return hps\n",
    "\n",
    "# csvファイル群を連結して DataFrame にする\n",
    "def load_csv_files(csv_dir):\n",
    "    logger.debug('loading csv...')\n",
    "    csv_list = sorted(glob.glob(os.path.join(csv_dir,'*.csv')))\n",
    "    df_list = [pd.read_csv(csv_file, header=None) for csv_file in csv_list]\n",
    "    df = pd.concat(df_list, ignore_index=True)\n",
    "    logger.debug('loaded csv')\n",
    "    return df\n",
    "\n",
    "# 異常スコアを計算する\n",
    "# 詳細 : https://klabum.github.io/rrcf/taxi.html\n",
    "# shingle 済のデータに異常スコアを付与したDataFrameを返す\n",
    "def calc_score(df,hps):\n",
    "    # RCF 準備\n",
    "    logger.debug('preparing RCF...')\n",
    "    data = df[0].astype(float).values\n",
    "    points = rrcf.shingle(data, size=hps['shingle_size'])\n",
    "    points = np.vstack([point for point in points])\n",
    "    n = points.shape[0]\n",
    "    sample_size_range = (n // hps['tree_size'], hps['tree_size'])\n",
    "    logger.debug('prepared RCF')\n",
    "    \n",
    "    # RCF を生成\n",
    "    logger.debug('generating RCF...')\n",
    "    forest = []\n",
    "    while len(forest) < hps['num_trees']:\n",
    "        ixs = np.random.choice(n, size=sample_size_range,\n",
    "                               replace=False)\n",
    "        trees = [rrcf.RCTree(points[ix], index_labels=ix) for ix in ixs]\n",
    "        forest.extend(trees)\n",
    "    logger.debug('generated RCF')\n",
    "    \n",
    "    # 異常スコア算出\n",
    "    logger.debug('calculating score...')\n",
    "    avg_codisp = pd.Series(0.0, index=np.arange(n))\n",
    "    index = np.zeros(n)\n",
    "    for tree in forest:\n",
    "        codisp = pd.Series({leaf : tree.codisp(leaf) for leaf in tree.leaves})\n",
    "        avg_codisp[codisp.index] += codisp\n",
    "        np.add.at(index, codisp.index.values, 1)\n",
    "    avg_codisp /= index\n",
    "    logger.debug('calculated score')\n",
    "    \n",
    "    # result の整理\n",
    "    logger.debug('organizing score...')\n",
    "    columns = [i for i in range(points.shape[1])]\n",
    "    result_df = pd.DataFrame(points, columns=columns, dtype='float')\n",
    "    result_df['score'] = pd.Series(avg_codisp)\n",
    "    result_df['scaled_score'] = result_df['score']/result_df['score'].max()\n",
    "    \n",
    "    logger.debug('organized score')\n",
    "    return result_df, forest\n",
    "\n",
    "# 異常判定\n",
    "def calc_threshold(df):\n",
    "    logger.debug('calculating calc_threshold...')\n",
    "    df['zscore'] = stats.zscore(df['score'])\n",
    "    df['anomaly'] = df['zscore'].apply(lambda x: True if x>3 else False)\n",
    "    return df\n",
    "\n",
    "# グラフの描画\n",
    "def draw_graph(result_df):\n",
    "    logger.debug('drawing graph...')\n",
    "    fig = plt.figure(figsize=(12,8))\n",
    "    ax1 = fig.add_subplot(3,1,1)\n",
    "    for col in result_df.columns.values:\n",
    "        if type(col)==int:\n",
    "            ax1.plot(result_df[col])\n",
    "        else:\n",
    "            break\n",
    "    ax2 = fig.add_subplot(3,1,2)\n",
    "    ax2.plot(result_df['score'])\n",
    "    ax3 = fig.add_subplot(3,1,3)\n",
    "    ax3.plot(result_df['anomaly'])\n",
    "    logger.debug('drawn graph')\n",
    "    return fig\n",
    "\n",
    "def main(model_base_dir, target_dir_list, hps):\n",
    "    for target_dir in target_dir_list:\n",
    "        logger.info(f\"target : {target_dir.replace('/opt/ml/input/data/training/','')}\")\n",
    "        \n",
    "        # 生成物の出力先設定\n",
    "        artifact_dir = os.path.join(model_base_dir,target_dir.replace('/opt/ml/input/data/training/','').replace('/','-')[:-1])\n",
    "        os.makedirs(artifact_dir)\n",
    "        model_path = os.path.join(artifact_dir,'model.dill')\n",
    "        graph_path = os.path.join(artifact_dir,'graph.png')\n",
    "        csv_path = os.path.join(artifact_dir,'result.csv')\n",
    "        \n",
    "        # 使用するデータをロードして１つの DataFrame にまとめる\n",
    "        df = load_csv_files(target_dir)\n",
    "        \n",
    "        # スコアの算出と算出に使用した shingle 済データと、RCF を作成\n",
    "        result_df, forest = calc_score(df, hps)\n",
    "        \n",
    "        # しきい値計算と判定\n",
    "        result_df = calc_threshold(result_df)\n",
    "        \n",
    "        # 結果 DF の出力\n",
    "        result_df.to_csv(csv_path,index=False)\n",
    "        \n",
    "        # RCF の出力\n",
    "        with open(model_path,'wb') as f:\n",
    "            dill.dump(forest, f)\n",
    "        \n",
    "        # shingle 済データとスコアのグラフ描画と出力\n",
    "        fig = draw_graph(result_df)\n",
    "        fig.savefig(graph_path,dpi=300)\n",
    "\n",
    "if __name__ == '__main__':\n",
    "    logger.info('exec start...')\n",
    "    hps = get_hps()\n",
    "    input_dir: Final[str] = os.environ.get('SM_CHANNEL_TRAINING')\n",
    "    model_base_dir: Final[str] = os.environ.get('SM_MODEL_DIR')\n",
    "    target_dir_list: Final[list] = glob.glob(os.path.join(input_dir,'**/**/**/**/value/'))\n",
    "    main(model_base_dir, target_dir_list, hps)\n",
    "    logger.info('completed')\n",
    "    exit()"
   ]
  },
  {
   "cell_type": "code",
   "execution_count": null,
   "id": "607872a3",
   "metadata": {
    "scrolled": true
   },
   "outputs": [],
   "source": [
    "from sagemaker.sklearn import SKLearn\n",
    "estimator = SKLearn(\n",
    "    entry_point='train.py',\n",
    "    source_dir = './training_src/',\n",
    "    py_version='py3', \n",
    "    framework_version='1.0-1',\n",
    "    instance_count=1,\n",
    "    instance_type='ml.m5.xlarge',\n",
    "    role=sagemaker.get_execution_role(),\n",
    "    hyperparameters={\n",
    "        'num_trees': 128,\n",
    "        'shingle_size': 10,\n",
    "        'tree_size': 1024,\n",
    "    }\n",
    ")\n",
    "estimator.fit(s3_base_uri)"
   ]
  },
  {
   "cell_type": "markdown",
   "id": "cdc02a0b",
   "metadata": {},
   "source": [
    "## 結果確認"
   ]
  },
  {
   "cell_type": "code",
   "execution_count": null,
   "id": "f8c16251",
   "metadata": {},
   "outputs": [],
   "source": [
    "!rm model.tar.gz\n",
    "!aws s3 cp {estimator.latest_training_job.describe()['ModelArtifacts']['S3ModelArtifacts']} ./"
   ]
  },
  {
   "cell_type": "code",
   "execution_count": null,
   "id": "c9963196",
   "metadata": {},
   "outputs": [],
   "source": [
    "!rm -rf M4Y*/\n",
    "!tar zxvf model.tar.gz"
   ]
  },
  {
   "cell_type": "code",
   "execution_count": null,
   "id": "f73fddee",
   "metadata": {},
   "outputs": [],
   "source": [
    "df = pd.read_csv('M4Y000449-1-cpu-0-value/result.csv')\n",
    "df"
   ]
  },
  {
   "cell_type": "code",
   "execution_count": null,
   "id": "d5e2ac13",
   "metadata": {},
   "outputs": [],
   "source": [
    "df = pd.read_csv('M4Y000448-2-mem-0-value/result.csv')\n",
    "df"
   ]
  },
  {
   "cell_type": "code",
   "execution_count": null,
   "id": "fd4c3abe",
   "metadata": {},
   "outputs": [],
   "source": [
    "from PIL import Image"
   ]
  },
  {
   "cell_type": "code",
   "execution_count": null,
   "id": "aedd6283",
   "metadata": {},
   "outputs": [],
   "source": [
    "Image.open('M4Y000449-1-cpu-0-value/graph.png')"
   ]
  },
  {
   "cell_type": "code",
   "execution_count": null,
   "id": "c55a13b5",
   "metadata": {},
   "outputs": [],
   "source": [
    "Image.open('M4Y000448-2-mem-0-value/graph.png')"
   ]
  },
  {
   "cell_type": "code",
   "execution_count": null,
   "id": "b1ae877b",
   "metadata": {},
   "outputs": [],
   "source": []
  }
 ],
 "metadata": {
  "kernelspec": {
   "display_name": "conda_python3",
   "language": "python",
   "name": "conda_python3"
  },
  "language_info": {
   "codemirror_mode": {
    "name": "ipython",
    "version": 3
   },
   "file_extension": ".py",
   "mimetype": "text/x-python",
   "name": "python",
   "nbconvert_exporter": "python",
   "pygments_lexer": "ipython3",
   "version": "3.8.12"
  }
 },
 "nbformat": 4,
 "nbformat_minor": 5
}
