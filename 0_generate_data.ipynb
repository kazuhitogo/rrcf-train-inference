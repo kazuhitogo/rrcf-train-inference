{
 "cells": [
  {
   "cell_type": "markdown",
   "id": "6bd06daa",
   "metadata": {},
   "source": [
    "# RRCF に使用するデータ作成\n",
    "* sin 波と矩形波にノイズを入れたデータを生成する\n",
    "* またデータは5,6に分割して保存する（日毎のデータをイメージ）"
   ]
  },
  {
   "cell_type": "code",
   "execution_count": null,
   "id": "ed56d00e",
   "metadata": {},
   "outputs": [],
   "source": [
    "import numpy as np\n",
    "from matplotlib import pyplot as plt\n",
    "import pandas as pd\n",
    "import os\n",
    "import sagemaker\n",
    "from scipy import signal"
   ]
  },
  {
   "cell_type": "code",
   "execution_count": null,
   "id": "5f061ae7",
   "metadata": {},
   "outputs": [],
   "source": [
    "n=20000\n",
    "noise_rate = 0.001"
   ]
  },
  {
   "cell_type": "markdown",
   "id": "8b807c8e",
   "metadata": {},
   "source": [
    "# データ1(Sin + Noise)"
   ]
  },
  {
   "cell_type": "code",
   "execution_count": null,
   "id": "25067c06",
   "metadata": {},
   "outputs": [],
   "source": [
    "sin_wave = np.sin(np.arange(n)/100)\n",
    "sin_wave[np.random.choice(n, int(n*noise_rate))] += (np.random.rand(int(n*noise_rate))-0.5)*3\n",
    "train_data = pd.DataFrame(sin_wave)"
   ]
  },
  {
   "cell_type": "code",
   "execution_count": null,
   "id": "92e48555",
   "metadata": {},
   "outputs": [],
   "source": [
    "train_data.plot()"
   ]
  },
  {
   "cell_type": "code",
   "execution_count": null,
   "id": "2dfc634d",
   "metadata": {},
   "outputs": [],
   "source": [
    "train_dir_1 = 'train_dataset/M4Y000448/2/mem/0/value/'\n",
    "!rm -rf {train_dir_1} && mkdir -p {train_dir_1}"
   ]
  },
  {
   "cell_type": "code",
   "execution_count": null,
   "id": "ed04a92d",
   "metadata": {},
   "outputs": [],
   "source": [
    "split_num = 4\n",
    "split_point_list = sorted(np.random.choice(n, split_num))\n",
    "split_point_list.insert(0,0)\n",
    "split_point_list.append(n)\n",
    "for i in range(split_num+1):\n",
    "    train_data[split_point_list[i]:split_point_list[i+1]].to_csv(os.path.join(train_dir_1,f'{i}.csv'),header=False,index=False)"
   ]
  },
  {
   "cell_type": "markdown",
   "id": "431dea0d",
   "metadata": {},
   "source": [
    "## データ2(矩形波+noise)"
   ]
  },
  {
   "cell_type": "code",
   "execution_count": null,
   "id": "40a7a826",
   "metadata": {},
   "outputs": [],
   "source": [
    "t = np.linspace(0, 1, n, endpoint=False)\n",
    "square_wave = signal.square(2 * np.pi * 5 * t)\n",
    "square_wave[np.random.choice(n, int(n*noise_rate))] += (np.random.rand(int(n*noise_rate))-0.5)*3\n",
    "train_data = pd.DataFrame(square_wave)"
   ]
  },
  {
   "cell_type": "code",
   "execution_count": null,
   "id": "bb854f4b",
   "metadata": {},
   "outputs": [],
   "source": [
    "train_data.plot()"
   ]
  },
  {
   "cell_type": "code",
   "execution_count": null,
   "id": "e5cde4af",
   "metadata": {},
   "outputs": [],
   "source": [
    "train_dir_1 = 'train_dataset/M4Y000449/1/cpu/0/value/'\n",
    "!rm -rf {train_dir_1} && mkdir -p {train_dir_1}"
   ]
  },
  {
   "cell_type": "code",
   "execution_count": null,
   "id": "bf537e22",
   "metadata": {},
   "outputs": [],
   "source": [
    "split_num = 5\n",
    "split_point_list = sorted(np.random.choice(n, split_num))\n",
    "split_point_list.insert(0,0)\n",
    "split_point_list.append(n)\n",
    "for i in range(split_num+1):\n",
    "    train_data[split_point_list[i]:split_point_list[i+1]].to_csv(os.path.join(train_dir_1,f'{i}.csv'),header=False,index=False)"
   ]
  },
  {
   "cell_type": "code",
   "execution_count": null,
   "id": "a77c28fc",
   "metadata": {},
   "outputs": [],
   "source": []
  }
 ],
 "metadata": {
  "kernelspec": {
   "display_name": "conda_python3",
   "language": "python",
   "name": "conda_python3"
  },
  "language_info": {
   "codemirror_mode": {
    "name": "ipython",
    "version": 3
   },
   "file_extension": ".py",
   "mimetype": "text/x-python",
   "name": "python",
   "nbconvert_exporter": "python",
   "pygments_lexer": "ipython3",
   "version": "3.8.12"
  }
 },
 "nbformat": 4,
 "nbformat_minor": 5
}
