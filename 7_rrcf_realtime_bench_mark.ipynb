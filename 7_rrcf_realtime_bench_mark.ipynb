{
 "cells": [
  {
   "cell_type": "markdown",
   "id": "9a8e0947",
   "metadata": {},
   "source": [
    "# リアルタイム推論による RRCF の学習と推論"
   ]
  },
  {
   "cell_type": "code",
   "execution_count": 3,
   "id": "cb10967e",
   "metadata": {},
   "outputs": [],
   "source": [
    "from typing import Final\n",
    "import os\n",
    "import sagemaker\n",
    "from sagemaker.sklearn import SKLearnModel\n",
    "import boto3\n",
    "import json\n",
    "from time import sleep\n",
    "import glob\n",
    "import pandas as pd\n",
    "import io\n",
    "from matplotlib import pyplot as plt\n",
    "\n",
    "smr_client:Final = boto3.client('sagemaker-runtime')\n",
    "sm_client:Final = boto3.client('sagemaker')\n",
    "s3_client:Final = boto3.client('s3')\n",
    "endpoint_inservice_waiter:Final = sm_client.get_waiter('endpoint_in_service')\n",
    "role: Final[str] = sagemaker.get_execution_role()\n",
    "region: Final[str] = sagemaker.Session().boto_region_name\n",
    "sess = sagemaker.session.Session()\n",
    "bucket = sess.default_bucket()"
   ]
  },
  {
   "cell_type": "markdown",
   "id": "8dcd2784",
   "metadata": {},
   "source": [
    "## データ準備\n",
    "* 5_xxx.ipynb のベンチマークデータを使う\n",
    "* ファイルリストを取得する"
   ]
  },
  {
   "cell_type": "code",
   "execution_count": 4,
   "id": "d2c05750",
   "metadata": {
    "scrolled": true
   },
   "outputs": [
    {
     "name": "stdout",
     "output_type": "stream",
     "text": [
      "./bench_data/00000/data.csv ./bench_data/00001/data.csv ./bench_data/00002/data.csv ./bench_data/00003/data.csv ./bench_data/00004/data.csv ./bench_data/00005/data.csv ./bench_data/00006/data.csv ./bench_data/00007/data.csv ./bench_data/00008/data.csv ./bench_data/00009/data.csv ./bench_data/00010/data.csv ./bench_data/00011/data.csv ./bench_data/00012/data.csv ./bench_data/00013/data.csv ./bench_data/00014/data.csv ./bench_data/00015/data.csv ./bench_data/00016/data.csv ./bench_data/00017/data.csv ./bench_data/00018/data.csv ./bench_data/00019/data.csv ./bench_data/00020/data.csv ./bench_data/00021/data.csv ./bench_data/00022/data.csv ./bench_data/00023/data.csv ./bench_data/00024/data.csv ./bench_data/00025/data.csv ./bench_data/00026/data.csv ./bench_data/00027/data.csv ./bench_data/00028/data.csv ./bench_data/00029/data.csv ./bench_data/00030/data.csv ./bench_data/00031/data.csv ./bench_data/00032/data.csv ./bench_data/00033/data.csv ./bench_data/00034/data.csv ./bench_data/00035/data.csv ./bench_data/00036/data.csv ./bench_data/00037/data.csv ./bench_data/00038/data.csv ./bench_data/00039/data.csv ./bench_data/00040/data.csv ./bench_data/00041/data.csv ./bench_data/00042/data.csv ./bench_data/00043/data.csv ./bench_data/00044/data.csv ./bench_data/00045/data.csv ./bench_data/00046/data.csv ./bench_data/00047/data.csv ./bench_data/00048/data.csv ./bench_data/00049/data.csv ./bench_data/00050/data.csv ./bench_data/00051/data.csv ./bench_data/00052/data.csv ./bench_data/00053/data.csv ./bench_data/00054/data.csv ./bench_data/00055/data.csv ./bench_data/00056/data.csv ./bench_data/00057/data.csv ./bench_data/00058/data.csv ./bench_data/00059/data.csv ./bench_data/00060/data.csv ./bench_data/00061/data.csv ./bench_data/00062/data.csv ./bench_data/00063/data.csv ./bench_data/00064/data.csv ./bench_data/00065/data.csv ./bench_data/00066/data.csv ./bench_data/00067/data.csv ./bench_data/00068/data.csv ./bench_data/00069/data.csv ./bench_data/00070/data.csv ./bench_data/00071/data.csv ./bench_data/00072/data.csv ./bench_data/00073/data.csv ./bench_data/00074/data.csv ./bench_data/00075/data.csv ./bench_data/00076/data.csv ./bench_data/00077/data.csv ./bench_data/00078/data.csv ./bench_data/00079/data.csv ./bench_data/00080/data.csv ./bench_data/00081/data.csv ./bench_data/00082/data.csv ./bench_data/00083/data.csv ./bench_data/00084/data.csv ./bench_data/00085/data.csv ./bench_data/00086/data.csv ./bench_data/00087/data.csv ./bench_data/00088/data.csv ./bench_data/00089/data.csv ./bench_data/00090/data.csv ./bench_data/00091/data.csv ./bench_data/00092/data.csv ./bench_data/00093/data.csv ./bench_data/00094/data.csv ./bench_data/00095/data.csv ./bench_data/00096/data.csv ./bench_data/00097/data.csv ./bench_data/00098/data.csv ./bench_data/00099/data.csv ./bench_data/00100/data.csv ./bench_data/00101/data.csv ./bench_data/00102/data.csv ./bench_data/00103/data.csv ./bench_data/00104/data.csv ./bench_data/00105/data.csv ./bench_data/00106/data.csv ./bench_data/00107/data.csv ./bench_data/00108/data.csv ./bench_data/00109/data.csv ./bench_data/00110/data.csv ./bench_data/00111/data.csv ./bench_data/00112/data.csv ./bench_data/00113/data.csv ./bench_data/00114/data.csv ./bench_data/00115/data.csv ./bench_data/00116/data.csv ./bench_data/00117/data.csv ./bench_data/00118/data.csv ./bench_data/00119/data.csv ./bench_data/00120/data.csv ./bench_data/00121/data.csv ./bench_data/00122/data.csv ./bench_data/00123/data.csv ./bench_data/00124/data.csv ./bench_data/00125/data.csv ./bench_data/00126/data.csv ./bench_data/00127/data.csv ./bench_data/00128/data.csv ./bench_data/00129/data.csv ./bench_data/00130/data.csv ./bench_data/00131/data.csv ./bench_data/00132/data.csv ./bench_data/00133/data.csv ./bench_data/00134/data.csv ./bench_data/00135/data.csv ./bench_data/00136/data.csv ./bench_data/00137/data.csv ./bench_data/00138/data.csv ./bench_data/00139/data.csv ./bench_data/00140/data.csv ./bench_data/00141/data.csv ./bench_data/00142/data.csv ./bench_data/00143/data.csv ./bench_data/00144/data.csv ./bench_data/00145/data.csv ./bench_data/00146/data.csv ./bench_data/00147/data.csv ./bench_data/00148/data.csv ./bench_data/00149/data.csv ./bench_data/00150/data.csv ./bench_data/00151/data.csv ./bench_data/00152/data.csv ./bench_data/00153/data.csv ./bench_data/00154/data.csv ./bench_data/00155/data.csv ./bench_data/00156/data.csv ./bench_data/00157/data.csv ./bench_data/00158/data.csv ./bench_data/00159/data.csv ./bench_data/00160/data.csv ./bench_data/00161/data.csv ./bench_data/00162/data.csv ./bench_data/00163/data.csv ./bench_data/00164/data.csv ./bench_data/00165/data.csv ./bench_data/00166/data.csv ./bench_data/00167/data.csv ./bench_data/00168/data.csv ./bench_data/00169/data.csv ./bench_data/00170/data.csv ./bench_data/00171/data.csv ./bench_data/00172/data.csv ./bench_data/00173/data.csv ./bench_data/00174/data.csv ./bench_data/00175/data.csv ./bench_data/00176/data.csv ./bench_data/00177/data.csv ./bench_data/00178/data.csv ./bench_data/00179/data.csv ./bench_data/00180/data.csv ./bench_data/00181/data.csv ./bench_data/00182/data.csv ./bench_data/00183/data.csv ./bench_data/00184/data.csv ./bench_data/00185/data.csv ./bench_data/00186/data.csv ./bench_data/00187/data.csv ./bench_data/00188/data.csv ./bench_data/00189/data.csv ./bench_data/00190/data.csv ./bench_data/00191/data.csv ./bench_data/00192/data.csv ./bench_data/00193/data.csv ./bench_data/00194/data.csv ./bench_data/00195/data.csv ./bench_data/00196/data.csv ./bench_data/00197/data.csv ./bench_data/00198/data.csv ./bench_data/00199/data.csv ./bench_data/00200/data.csv ./bench_data/00201/data.csv ./bench_data/00202/data.csv ./bench_data/00203/data.csv ./bench_data/00204/data.csv ./bench_data/00205/data.csv ./bench_data/00206/data.csv ./bench_data/00207/data.csv ./bench_data/00208/data.csv ./bench_data/00209/data.csv ./bench_data/00210/data.csv ./bench_data/00211/data.csv ./bench_data/00212/data.csv ./bench_data/00213/data.csv ./bench_data/00214/data.csv ./bench_data/00215/data.csv ./bench_data/00216/data.csv ./bench_data/00217/data.csv ./bench_data/00218/data.csv ./bench_data/00219/data.csv ./bench_data/00220/data.csv ./bench_data/00221/data.csv ./bench_data/00222/data.csv ./bench_data/00223/data.csv ./bench_data/00224/data.csv ./bench_data/00225/data.csv ./bench_data/00226/data.csv ./bench_data/00227/data.csv ./bench_data/00228/data.csv ./bench_data/00229/data.csv ./bench_data/00230/data.csv ./bench_data/00231/data.csv ./bench_data/00232/data.csv ./bench_data/00233/data.csv ./bench_data/00234/data.csv ./bench_data/00235/data.csv ./bench_data/00236/data.csv ./bench_data/00237/data.csv ./bench_data/00238/data.csv ./bench_data/00239/data.csv ./bench_data/00240/data.csv ./bench_data/00241/data.csv ./bench_data/00242/data.csv ./bench_data/00243/data.csv ./bench_data/00244/data.csv ./bench_data/00245/data.csv ./bench_data/00246/data.csv ./bench_data/00247/data.csv ./bench_data/00248/data.csv ./bench_data/00249/data.csv ./bench_data/00250/data.csv ./bench_data/00251/data.csv ./bench_data/00252/data.csv ./bench_data/00253/data.csv ./bench_data/00254/data.csv ./bench_data/00255/data.csv ./bench_data/00256/data.csv ./bench_data/00257/data.csv ./bench_data/00258/data.csv ./bench_data/00259/data.csv ./bench_data/00260/data.csv ./bench_data/00261/data.csv ./bench_data/00262/data.csv ./bench_data/00263/data.csv ./bench_data/00264/data.csv ./bench_data/00265/data.csv ./bench_data/00266/data.csv ./bench_data/00267/data.csv ./bench_data/00268/data.csv ./bench_data/00269/data.csv ./bench_data/00270/data.csv ./bench_data/00271/data.csv ./bench_data/00272/data.csv ./bench_data/00273/data.csv ./bench_data/00274/data.csv ./bench_data/00275/data.csv ./bench_data/00276/data.csv ./bench_data/00277/data.csv ./bench_data/00278/data.csv ./bench_data/00279/data.csv ./bench_data/00280/data.csv ./bench_data/00281/data.csv ./bench_data/00282/data.csv ./bench_data/00283/data.csv ./bench_data/00284/data.csv ./bench_data/00285/data.csv ./bench_data/00286/data.csv ./bench_data/00287/data.csv ./bench_data/00288/data.csv ./bench_data/00289/data.csv ./bench_data/00290/data.csv ./bench_data/00291/data.csv ./bench_data/00292/data.csv ./bench_data/00293/data.csv ./bench_data/00294/data.csv ./bench_data/00295/data.csv ./bench_data/00296/data.csv ./bench_data/00297/data.csv ./bench_data/00298/data.csv ./bench_data/00299/data.csv ./bench_data/00300/data.csv ./bench_data/00301/data.csv ./bench_data/00302/data.csv ./bench_data/00303/data.csv ./bench_data/00304/data.csv ./bench_data/00305/data.csv ./bench_data/00306/data.csv ./bench_data/00307/data.csv ./bench_data/00308/data.csv ./bench_data/00309/data.csv ./bench_data/00310/data.csv ./bench_data/00311/data.csv ./bench_data/00312/data.csv ./bench_data/00313/data.csv ./bench_data/00314/data.csv ./bench_data/00315/data.csv ./bench_data/00316/data.csv ./bench_data/00317/data.csv ./bench_data/00318/data.csv ./bench_data/00319/data.csv ./bench_data/00320/data.csv ./bench_data/00321/data.csv ./bench_data/00322/data.csv ./bench_data/00323/data.csv ./bench_data/00324/data.csv ./bench_data/00325/data.csv ./bench_data/00326/data.csv ./bench_data/00327/data.csv ./bench_data/00328/data.csv ./bench_data/00329/data.csv ./bench_data/00330/data.csv ./bench_data/00331/data.csv ./bench_data/00332/data.csv ./bench_data/00333/data.csv ./bench_data/00334/data.csv ./bench_data/00335/data.csv ./bench_data/00336/data.csv ./bench_data/00337/data.csv ./bench_data/00338/data.csv ./bench_data/00339/data.csv ./bench_data/00340/data.csv ./bench_data/00341/data.csv ./bench_data/00342/data.csv ./bench_data/00343/data.csv ./bench_data/00344/data.csv ./bench_data/00345/data.csv ./bench_data/00346/data.csv ./bench_data/00347/data.csv ./bench_data/00348/data.csv ./bench_data/00349/data.csv ./bench_data/00350/data.csv ./bench_data/00351/data.csv ./bench_data/00352/data.csv ./bench_data/00353/data.csv ./bench_data/00354/data.csv ./bench_data/00355/data.csv ./bench_data/00356/data.csv ./bench_data/00357/data.csv ./bench_data/00358/data.csv ./bench_data/00359/data.csv ./bench_data/00360/data.csv ./bench_data/00361/data.csv ./bench_data/00362/data.csv ./bench_data/00363/data.csv ./bench_data/00364/data.csv ./bench_data/00365/data.csv ./bench_data/00366/data.csv ./bench_data/00367/data.csv ./bench_data/00368/data.csv ./bench_data/00369/data.csv ./bench_data/00370/data.csv ./bench_data/00371/data.csv ./bench_data/00372/data.csv ./bench_data/00373/data.csv ./bench_data/00374/data.csv ./bench_data/00375/data.csv ./bench_data/00376/data.csv ./bench_data/00377/data.csv ./bench_data/00378/data.csv ./bench_data/00379/data.csv ./bench_data/00380/data.csv ./bench_data/00381/data.csv ./bench_data/00382/data.csv ./bench_data/00383/data.csv ./bench_data/00384/data.csv ./bench_data/00385/data.csv ./bench_data/00386/data.csv ./bench_data/00387/data.csv ./bench_data/00388/data.csv ./bench_data/00389/data.csv ./bench_data/00390/data.csv ./bench_data/00391/data.csv ./bench_data/00392/data.csv ./bench_data/00393/data.csv ./bench_data/00394/data.csv ./bench_data/00395/data.csv ./bench_data/00396/data.csv ./bench_data/00397/data.csv ./bench_data/00398/data.csv ./bench_data/00399/data.csv ./bench_data/00400/data.csv ./bench_data/00401/data.csv ./bench_data/00402/data.csv ./bench_data/00403/data.csv ./bench_data/00404/data.csv ./bench_data/00405/data.csv ./bench_data/00406/data.csv ./bench_data/00407/data.csv ./bench_data/00408/data.csv ./bench_data/00409/data.csv ./bench_data/00410/data.csv ./bench_data/00411/data.csv ./bench_data/00412/data.csv ./bench_data/00413/data.csv ./bench_data/00414/data.csv ./bench_data/00415/data.csv ./bench_data/00416/data.csv ./bench_data/00417/data.csv ./bench_data/00418/data.csv ./bench_data/00419/data.csv ./bench_data/00420/data.csv ./bench_data/00421/data.csv ./bench_data/00422/data.csv ./bench_data/00423/data.csv ./bench_data/00424/data.csv ./bench_data/00425/data.csv ./bench_data/00426/data.csv ./bench_data/00427/data.csv ./bench_data/00428/data.csv ./bench_data/00429/data.csv ./bench_data/00430/data.csv ./bench_data/00431/data.csv ./bench_data/00432/data.csv ./bench_data/00433/data.csv ./bench_data/00434/data.csv ./bench_data/00435/data.csv ./bench_data/00436/data.csv ./bench_data/00437/data.csv ./bench_data/00438/data.csv ./bench_data/00439/data.csv ./bench_data/00440/data.csv ./bench_data/00441/data.csv ./bench_data/00442/data.csv ./bench_data/00443/data.csv ./bench_data/00444/data.csv ./bench_data/00445/data.csv ./bench_data/00446/data.csv ./bench_data/00447/data.csv ./bench_data/00448/data.csv ./bench_data/00449/data.csv ./bench_data/00450/data.csv ./bench_data/00451/data.csv ./bench_data/00452/data.csv ./bench_data/00453/data.csv ./bench_data/00454/data.csv ./bench_data/00455/data.csv ./bench_data/00456/data.csv ./bench_data/00457/data.csv ./bench_data/00458/data.csv ./bench_data/00459/data.csv ./bench_data/00460/data.csv ./bench_data/00461/data.csv ./bench_data/00462/data.csv ./bench_data/00463/data.csv ./bench_data/00464/data.csv ./bench_data/00465/data.csv ./bench_data/00466/data.csv ./bench_data/00467/data.csv ./bench_data/00468/data.csv ./bench_data/00469/data.csv ./bench_data/00470/data.csv ./bench_data/00471/data.csv ./bench_data/00472/data.csv ./bench_data/00473/data.csv ./bench_data/00474/data.csv ./bench_data/00475/data.csv ./bench_data/00476/data.csv ./bench_data/00477/data.csv ./bench_data/00478/data.csv ./bench_data/00479/data.csv ./bench_data/00480/data.csv ./bench_data/00481/data.csv ./bench_data/00482/data.csv ./bench_data/00483/data.csv ./bench_data/00484/data.csv ./bench_data/00485/data.csv ./bench_data/00486/data.csv ./bench_data/00487/data.csv ./bench_data/00488/data.csv ./bench_data/00489/data.csv ./bench_data/00490/data.csv ./bench_data/00491/data.csv ./bench_data/00492/data.csv ./bench_data/00493/data.csv ./bench_data/00494/data.csv ./bench_data/00495/data.csv ./bench_data/00496/data.csv ./bench_data/00497/data.csv ./bench_data/00498/data.csv ./bench_data/00499/data.csv ./bench_data/00500/data.csv ./bench_data/00501/data.csv ./bench_data/00502/data.csv ./bench_data/00503/data.csv ./bench_data/00504/data.csv ./bench_data/00505/data.csv ./bench_data/00506/data.csv ./bench_data/00507/data.csv ./bench_data/00508/data.csv ./bench_data/00509/data.csv ./bench_data/00510/data.csv ./bench_data/00511/data.csv ./bench_data/00512/data.csv ./bench_data/00513/data.csv ./bench_data/00514/data.csv ./bench_data/00515/data.csv ./bench_data/00516/data.csv ./bench_data/00517/data.csv ./bench_data/00518/data.csv ./bench_data/00519/data.csv ./bench_data/00520/data.csv ./bench_data/00521/data.csv ./bench_data/00522/data.csv ./bench_data/00523/data.csv ./bench_data/00524/data.csv ./bench_data/00525/data.csv ./bench_data/00526/data.csv ./bench_data/00527/data.csv ./bench_data/00528/data.csv ./bench_data/00529/data.csv ./bench_data/00530/data.csv ./bench_data/00531/data.csv ./bench_data/00532/data.csv ./bench_data/00533/data.csv ./bench_data/00534/data.csv ./bench_data/00535/data.csv ./bench_data/00536/data.csv ./bench_data/00537/data.csv ./bench_data/00538/data.csv ./bench_data/00539/data.csv ./bench_data/00540/data.csv ./bench_data/00541/data.csv ./bench_data/00542/data.csv ./bench_data/00543/data.csv ./bench_data/00544/data.csv ./bench_data/00545/data.csv ./bench_data/00546/data.csv ./bench_data/00547/data.csv ./bench_data/00548/data.csv ./bench_data/00549/data.csv ./bench_data/00550/data.csv ./bench_data/00551/data.csv ./bench_data/00552/data.csv ./bench_data/00553/data.csv ./bench_data/00554/data.csv ./bench_data/00555/data.csv ./bench_data/00556/data.csv ./bench_data/00557/data.csv ./bench_data/00558/data.csv ./bench_data/00559/data.csv ./bench_data/00560/data.csv ./bench_data/00561/data.csv ./bench_data/00562/data.csv ./bench_data/00563/data.csv ./bench_data/00564/data.csv ./bench_data/00565/data.csv ./bench_data/00566/data.csv ./bench_data/00567/data.csv ./bench_data/00568/data.csv ./bench_data/00569/data.csv ./bench_data/00570/data.csv ./bench_data/00571/data.csv ./bench_data/00572/data.csv ./bench_data/00573/data.csv ./bench_data/00574/data.csv ./bench_data/00575/data.csv ./bench_data/00576/data.csv ./bench_data/00577/data.csv ./bench_data/00578/data.csv ./bench_data/00579/data.csv ./bench_data/00580/data.csv ./bench_data/00581/data.csv ./bench_data/00582/data.csv ./bench_data/00583/data.csv ./bench_data/00584/data.csv ./bench_data/00585/data.csv ./bench_data/00586/data.csv ./bench_data/00587/data.csv ./bench_data/00588/data.csv ./bench_data/00589/data.csv ./bench_data/00590/data.csv ./bench_data/00591/data.csv ./bench_data/00592/data.csv ./bench_data/00593/data.csv ./bench_data/00594/data.csv ./bench_data/00595/data.csv ./bench_data/00596/data.csv ./bench_data/00597/data.csv ./bench_data/00598/data.csv ./bench_data/00599/data.csv ./bench_data/00600/data.csv ./bench_data/00601/data.csv ./bench_data/00602/data.csv ./bench_data/00603/data.csv ./bench_data/00604/data.csv ./bench_data/00605/data.csv ./bench_data/00606/data.csv ./bench_data/00607/data.csv ./bench_data/00608/data.csv ./bench_data/00609/data.csv ./bench_data/00610/data.csv ./bench_data/00611/data.csv ./bench_data/00612/data.csv ./bench_data/00613/data.csv ./bench_data/00614/data.csv ./bench_data/00615/data.csv ./bench_data/00616/data.csv ./bench_data/00617/data.csv ./bench_data/00618/data.csv ./bench_data/00619/data.csv ./bench_data/00620/data.csv ./bench_data/00621/data.csv ./bench_data/00622/data.csv ./bench_data/00623/data.csv ./bench_data/00624/data.csv ./bench_data/00625/data.csv ./bench_data/00626/data.csv ./bench_data/00627/data.csv ./bench_data/00628/data.csv ./bench_data/00629/data.csv ./bench_data/00630/data.csv ./bench_data/00631/data.csv ./bench_data/00632/data.csv ./bench_data/00633/data.csv ./bench_data/00634/data.csv ./bench_data/00635/data.csv ./bench_data/00636/data.csv ./bench_data/00637/data.csv ./bench_data/00638/data.csv ./bench_data/00639/data.csv ./bench_data/00640/data.csv ./bench_data/00641/data.csv ./bench_data/00642/data.csv ./bench_data/00643/data.csv ./bench_data/00644/data.csv ./bench_data/00645/data.csv ./bench_data/00646/data.csv ./bench_data/00647/data.csv ./bench_data/00648/data.csv ./bench_data/00649/data.csv ./bench_data/00650/data.csv ./bench_data/00651/data.csv ./bench_data/00652/data.csv ./bench_data/00653/data.csv ./bench_data/00654/data.csv ./bench_data/00655/data.csv ./bench_data/00656/data.csv ./bench_data/00657/data.csv ./bench_data/00658/data.csv ./bench_data/00659/data.csv ./bench_data/00660/data.csv ./bench_data/00661/data.csv ./bench_data/00662/data.csv ./bench_data/00663/data.csv ./bench_data/00664/data.csv ./bench_data/00665/data.csv ./bench_data/00666/data.csv ./bench_data/00667/data.csv ./bench_data/00668/data.csv ./bench_data/00669/data.csv ./bench_data/00670/data.csv ./bench_data/00671/data.csv ./bench_data/00672/data.csv ./bench_data/00673/data.csv ./bench_data/00674/data.csv ./bench_data/00675/data.csv ./bench_data/00676/data.csv ./bench_data/00677/data.csv ./bench_data/00678/data.csv ./bench_data/00679/data.csv ./bench_data/00680/data.csv ./bench_data/00681/data.csv ./bench_data/00682/data.csv ./bench_data/00683/data.csv ./bench_data/00684/data.csv ./bench_data/00685/data.csv ./bench_data/00686/data.csv ./bench_data/00687/data.csv ./bench_data/00688/data.csv ./bench_data/00689/data.csv ./bench_data/00690/data.csv ./bench_data/00691/data.csv ./bench_data/00692/data.csv ./bench_data/00693/data.csv ./bench_data/00694/data.csv ./bench_data/00695/data.csv ./bench_data/00696/data.csv ./bench_data/00697/data.csv ./bench_data/00698/data.csv ./bench_data/00699/data.csv ./bench_data/00700/data.csv ./bench_data/00701/data.csv ./bench_data/00702/data.csv ./bench_data/00703/data.csv ./bench_data/00704/data.csv ./bench_data/00705/data.csv ./bench_data/00706/data.csv ./bench_data/00707/data.csv ./bench_data/00708/data.csv ./bench_data/00709/data.csv ./bench_data/00710/data.csv ./bench_data/00711/data.csv ./bench_data/00712/data.csv ./bench_data/00713/data.csv ./bench_data/00714/data.csv ./bench_data/00715/data.csv ./bench_data/00716/data.csv ./bench_data/00717/data.csv ./bench_data/00718/data.csv ./bench_data/00719/data.csv ./bench_data/00720/data.csv ./bench_data/00721/data.csv ./bench_data/00722/data.csv ./bench_data/00723/data.csv ./bench_data/00724/data.csv ./bench_data/00725/data.csv ./bench_data/00726/data.csv ./bench_data/00727/data.csv ./bench_data/00728/data.csv ./bench_data/00729/data.csv ./bench_data/00730/data.csv ./bench_data/00731/data.csv ./bench_data/00732/data.csv ./bench_data/00733/data.csv ./bench_data/00734/data.csv ./bench_data/00735/data.csv ./bench_data/00736/data.csv ./bench_data/00737/data.csv ./bench_data/00738/data.csv ./bench_data/00739/data.csv ./bench_data/00740/data.csv ./bench_data/00741/data.csv ./bench_data/00742/data.csv ./bench_data/00743/data.csv ./bench_data/00744/data.csv ./bench_data/00745/data.csv ./bench_data/00746/data.csv ./bench_data/00747/data.csv ./bench_data/00748/data.csv ./bench_data/00749/data.csv ./bench_data/00750/data.csv ./bench_data/00751/data.csv ./bench_data/00752/data.csv ./bench_data/00753/data.csv ./bench_data/00754/data.csv ./bench_data/00755/data.csv ./bench_data/00756/data.csv ./bench_data/00757/data.csv ./bench_data/00758/data.csv ./bench_data/00759/data.csv ./bench_data/00760/data.csv ./bench_data/00761/data.csv ./bench_data/00762/data.csv ./bench_data/00763/data.csv ./bench_data/00764/data.csv ./bench_data/00765/data.csv ./bench_data/00766/data.csv ./bench_data/00767/data.csv ./bench_data/00768/data.csv ./bench_data/00769/data.csv ./bench_data/00770/data.csv ./bench_data/00771/data.csv ./bench_data/00772/data.csv ./bench_data/00773/data.csv ./bench_data/00774/data.csv ./bench_data/00775/data.csv ./bench_data/00776/data.csv ./bench_data/00777/data.csv ./bench_data/00778/data.csv ./bench_data/00779/data.csv ./bench_data/00780/data.csv ./bench_data/00781/data.csv ./bench_data/00782/data.csv ./bench_data/00783/data.csv ./bench_data/00784/data.csv ./bench_data/00785/data.csv ./bench_data/00786/data.csv ./bench_data/00787/data.csv ./bench_data/00788/data.csv ./bench_data/00789/data.csv ./bench_data/00790/data.csv ./bench_data/00791/data.csv ./bench_data/00792/data.csv ./bench_data/00793/data.csv ./bench_data/00794/data.csv ./bench_data/00795/data.csv ./bench_data/00796/data.csv ./bench_data/00797/data.csv ./bench_data/00798/data.csv ./bench_data/00799/data.csv ./bench_data/00800/data.csv ./bench_data/00801/data.csv ./bench_data/00802/data.csv ./bench_data/00803/data.csv ./bench_data/00804/data.csv ./bench_data/00805/data.csv ./bench_data/00806/data.csv ./bench_data/00807/data.csv ./bench_data/00808/data.csv ./bench_data/00809/data.csv ./bench_data/00810/data.csv ./bench_data/00811/data.csv ./bench_data/00812/data.csv ./bench_data/00813/data.csv ./bench_data/00814/data.csv ./bench_data/00815/data.csv ./bench_data/00816/data.csv ./bench_data/00817/data.csv ./bench_data/00818/data.csv ./bench_data/00819/data.csv ./bench_data/00820/data.csv ./bench_data/00821/data.csv ./bench_data/00822/data.csv ./bench_data/00823/data.csv ./bench_data/00824/data.csv ./bench_data/00825/data.csv ./bench_data/00826/data.csv ./bench_data/00827/data.csv ./bench_data/00828/data.csv ./bench_data/00829/data.csv ./bench_data/00830/data.csv ./bench_data/00831/data.csv ./bench_data/00832/data.csv ./bench_data/00833/data.csv ./bench_data/00834/data.csv ./bench_data/00835/data.csv ./bench_data/00836/data.csv ./bench_data/00837/data.csv ./bench_data/00838/data.csv ./bench_data/00839/data.csv ./bench_data/00840/data.csv ./bench_data/00841/data.csv ./bench_data/00842/data.csv ./bench_data/00843/data.csv ./bench_data/00844/data.csv ./bench_data/00845/data.csv ./bench_data/00846/data.csv ./bench_data/00847/data.csv ./bench_data/00848/data.csv ./bench_data/00849/data.csv ./bench_data/00850/data.csv ./bench_data/00851/data.csv ./bench_data/00852/data.csv ./bench_data/00853/data.csv ./bench_data/00854/data.csv ./bench_data/00855/data.csv ./bench_data/00856/data.csv ./bench_data/00857/data.csv ./bench_data/00858/data.csv ./bench_data/00859/data.csv ./bench_data/00860/data.csv ./bench_data/00861/data.csv ./bench_data/00862/data.csv ./bench_data/00863/data.csv ./bench_data/00864/data.csv ./bench_data/00865/data.csv ./bench_data/00866/data.csv ./bench_data/00867/data.csv ./bench_data/00868/data.csv ./bench_data/00869/data.csv ./bench_data/00870/data.csv ./bench_data/00871/data.csv ./bench_data/00872/data.csv ./bench_data/00873/data.csv ./bench_data/00874/data.csv ./bench_data/00875/data.csv ./bench_data/00876/data.csv ./bench_data/00877/data.csv ./bench_data/00878/data.csv ./bench_data/00879/data.csv ./bench_data/00880/data.csv ./bench_data/00881/data.csv ./bench_data/00882/data.csv ./bench_data/00883/data.csv ./bench_data/00884/data.csv ./bench_data/00885/data.csv ./bench_data/00886/data.csv ./bench_data/00887/data.csv ./bench_data/00888/data.csv ./bench_data/00889/data.csv ./bench_data/00890/data.csv ./bench_data/00891/data.csv ./bench_data/00892/data.csv ./bench_data/00893/data.csv ./bench_data/00894/data.csv ./bench_data/00895/data.csv ./bench_data/00896/data.csv ./bench_data/00897/data.csv ./bench_data/00898/data.csv ./bench_data/00899/data.csv ./bench_data/00900/data.csv ./bench_data/00901/data.csv ./bench_data/00902/data.csv ./bench_data/00903/data.csv ./bench_data/00904/data.csv ./bench_data/00905/data.csv ./bench_data/00906/data.csv ./bench_data/00907/data.csv ./bench_data/00908/data.csv ./bench_data/00909/data.csv ./bench_data/00910/data.csv ./bench_data/00911/data.csv ./bench_data/00912/data.csv ./bench_data/00913/data.csv ./bench_data/00914/data.csv ./bench_data/00915/data.csv ./bench_data/00916/data.csv ./bench_data/00917/data.csv ./bench_data/00918/data.csv ./bench_data/00919/data.csv ./bench_data/00920/data.csv ./bench_data/00921/data.csv ./bench_data/00922/data.csv ./bench_data/00923/data.csv ./bench_data/00924/data.csv ./bench_data/00925/data.csv ./bench_data/00926/data.csv ./bench_data/00927/data.csv ./bench_data/00928/data.csv ./bench_data/00929/data.csv ./bench_data/00930/data.csv ./bench_data/00931/data.csv ./bench_data/00932/data.csv ./bench_data/00933/data.csv ./bench_data/00934/data.csv ./bench_data/00935/data.csv ./bench_data/00936/data.csv ./bench_data/00937/data.csv ./bench_data/00938/data.csv ./bench_data/00939/data.csv ./bench_data/00940/data.csv ./bench_data/00941/data.csv ./bench_data/00942/data.csv ./bench_data/00943/data.csv ./bench_data/00944/data.csv ./bench_data/00945/data.csv ./bench_data/00946/data.csv ./bench_data/00947/data.csv ./bench_data/00948/data.csv ./bench_data/00949/data.csv ./bench_data/00950/data.csv ./bench_data/00951/data.csv ./bench_data/00952/data.csv ./bench_data/00953/data.csv ./bench_data/00954/data.csv ./bench_data/00955/data.csv ./bench_data/00956/data.csv ./bench_data/00957/data.csv ./bench_data/00958/data.csv ./bench_data/00959/data.csv ./bench_data/00960/data.csv ./bench_data/00961/data.csv ./bench_data/00962/data.csv ./bench_data/00963/data.csv ./bench_data/00964/data.csv ./bench_data/00965/data.csv ./bench_data/00966/data.csv ./bench_data/00967/data.csv ./bench_data/00968/data.csv ./bench_data/00969/data.csv ./bench_data/00970/data.csv ./bench_data/00971/data.csv ./bench_data/00972/data.csv ./bench_data/00973/data.csv ./bench_data/00974/data.csv ./bench_data/00975/data.csv ./bench_data/00976/data.csv ./bench_data/00977/data.csv ./bench_data/00978/data.csv ./bench_data/00979/data.csv ./bench_data/00980/data.csv ./bench_data/00981/data.csv ./bench_data/00982/data.csv ./bench_data/00983/data.csv ./bench_data/00984/data.csv ./bench_data/00985/data.csv ./bench_data/00986/data.csv ./bench_data/00987/data.csv ./bench_data/00988/data.csv ./bench_data/00989/data.csv ./bench_data/00990/data.csv ./bench_data/00991/data.csv ./bench_data/00992/data.csv ./bench_data/00993/data.csv ./bench_data/00994/data.csv ./bench_data/00995/data.csv ./bench_data/00996/data.csv ./bench_data/00997/data.csv ./bench_data/00998/data.csv ./bench_data/00999/data.csv\n"
     ]
    }
   ],
   "source": [
    "file_name_list = sorted(glob.glob('./bench_data/**/*.csv'))\n",
    "print(*file_name_list)"
   ]
  },
  {
   "cell_type": "markdown",
   "id": "836de63b",
   "metadata": {},
   "source": [
    "## 推論コード作成"
   ]
  },
  {
   "cell_type": "code",
   "execution_count": 16,
   "id": "0c083d99",
   "metadata": {},
   "outputs": [],
   "source": [
    "source_dir = 'rt_bench_src/'\n",
    "!rm -rf {source_dir}\n",
    "!mkdir {source_dir}"
   ]
  },
  {
   "cell_type": "code",
   "execution_count": 17,
   "id": "78ba0541",
   "metadata": {},
   "outputs": [
    {
     "name": "stdout",
     "output_type": "stream",
     "text": [
      "Writing rt_bench_src/requirements.txt\n"
     ]
    }
   ],
   "source": [
    "%%writefile rt_bench_src/requirements.txt\n",
    "rrcf==0.4.3\n",
    "dill==0.3.4\n",
    "matplotlib==3.5.3"
   ]
  },
  {
   "cell_type": "code",
   "execution_count": 18,
   "id": "8c6025df",
   "metadata": {},
   "outputs": [
    {
     "name": "stdout",
     "output_type": "stream",
     "text": [
      "Writing rt_bench_src/inference.py\n"
     ]
    }
   ],
   "source": [
    "%%writefile rt_bench_src/inference.py\n",
    "import pandas as pd\n",
    "import io\n",
    "import rrcf\n",
    "import numpy as np\n",
    "from scipy import stats\n",
    "import logging\n",
    "import sys\n",
    "logger = logging.getLogger(__name__)\n",
    "logger.setLevel(logging.INFO)\n",
    "logger.addHandler(logging.StreamHandler(sys.stdout))\n",
    "\n",
    "hps={\n",
    "    'num_trees':128,\n",
    "    'shingle_size':10,\n",
    "    'tree_size':1024\n",
    "}\n",
    "\n",
    "\n",
    "def calc_score(df):\n",
    "    # RCF 準備\n",
    "    logger.debug('preparing RCF...')\n",
    "    data = df[0].astype(float).values\n",
    "    points = rrcf.shingle(data, size=hps['shingle_size'])\n",
    "    points = np.vstack([point for point in points])\n",
    "    n = points.shape[0]\n",
    "    sample_size_range = (n // hps['tree_size'], hps['tree_size'])\n",
    "    logger.debug('prepared RCF')\n",
    "    \n",
    "    # RCF を生成\n",
    "    logger.debug('generating RCF...')\n",
    "    forest = []\n",
    "    while len(forest) < hps['num_trees']:\n",
    "        ixs = np.random.choice(n, size=sample_size_range,\n",
    "                               replace=False)\n",
    "        trees = [rrcf.RCTree(points[ix], index_labels=ix) for ix in ixs]\n",
    "        forest.extend(trees)\n",
    "    logger.debug('generated RCF')\n",
    "    \n",
    "    # 異常スコア算出\n",
    "    logger.debug('calculating score...')\n",
    "    avg_codisp = pd.Series(0.0, index=np.arange(n))\n",
    "    index = np.zeros(n)\n",
    "    for tree in forest:\n",
    "        codisp = pd.Series({leaf : tree.codisp(leaf) for leaf in tree.leaves})\n",
    "        avg_codisp[codisp.index] += codisp\n",
    "        np.add.at(index, codisp.index.values, 1)\n",
    "    avg_codisp /= index\n",
    "    logger.debug('calculated score')\n",
    "    \n",
    "    # result の整理\n",
    "    logger.debug('organizing score...')\n",
    "    columns = [i for i in range(points.shape[1])]\n",
    "    result_df = pd.DataFrame(points, columns=columns, dtype='float')\n",
    "    result_df['score'] = pd.Series(avg_codisp)\n",
    "    result_df['scaled_score'] = result_df['score']/result_df['score'].max()\n",
    "    \n",
    "    logger.debug('organized score')\n",
    "    return result_df, forest\n",
    "\n",
    "def calc_threshold(df):\n",
    "    logger.debug('calculating calc_threshold...')\n",
    "    df['zscore'] = stats.zscore(df['score'])\n",
    "    df['anomaly'] = df['zscore'].apply(lambda x: True if x>3 else False)\n",
    "    return df\n",
    "\n",
    "def model_fn(model_dir):\n",
    "    return None\n",
    "def input_fn(input_data, content_type):\n",
    "    if content_type=='text/csv':\n",
    "        df = pd.read_csv(io.StringIO(input_data), header=None)\n",
    "    else:\n",
    "        raise TypeError('allowed only text/csv')\n",
    "    return df\n",
    "def predict_fn(transformed_data, model):\n",
    "    result_df, forest = calc_score(transformed_data)\n",
    "    result_df = calc_threshold(result_df)\n",
    "    return result_df\n",
    "def output_fn(df, accept_type):\n",
    "    buffer = io.StringIO()\n",
    "    df.to_csv(buffer, index=False)\n",
    "    return buffer.getvalue()"
   ]
  },
  {
   "cell_type": "markdown",
   "id": "19232cda",
   "metadata": {},
   "source": [
    "## 推論コードアップロード"
   ]
  },
  {
   "cell_type": "code",
   "execution_count": 19,
   "id": "2d59eaef",
   "metadata": {},
   "outputs": [
    {
     "name": "stdout",
     "output_type": "stream",
     "text": [
      "/home/ec2-user/SageMaker/rrcf_train_inference/rt_bench_src\n",
      "./inference.py\n",
      "./requirements.txt\n",
      "/home/ec2-user/SageMaker/rrcf_train_inference\n"
     ]
    }
   ],
   "source": [
    "%cd {source_dir}\n",
    "!tar zcvf sourcedir.tar.gz ./*\n",
    "%cd .."
   ]
  },
  {
   "cell_type": "code",
   "execution_count": 20,
   "id": "6eb5e96b",
   "metadata": {},
   "outputs": [
    {
     "name": "stdout",
     "output_type": "stream",
     "text": [
      "s3://sagemaker-us-east-1-290000338583/rt_bench/sourcedir.tar.gz\n"
     ]
    }
   ],
   "source": [
    "source_s3_uri:Final[str] = sagemaker.session.Session().upload_data(\n",
    "    f'./{source_dir}/sourcedir.tar.gz',\n",
    "    key_prefix = 'rt_bench'\n",
    ")\n",
    "print(source_s3_uri)"
   ]
  },
  {
   "cell_type": "markdown",
   "id": "a74e803c",
   "metadata": {},
   "source": [
    "## リアルタイム推論エンドポイント作成"
   ]
  },
  {
   "cell_type": "code",
   "execution_count": 5,
   "id": "f869eb35",
   "metadata": {},
   "outputs": [],
   "source": [
    "# 名前の設定\n",
    "model_name: Final[str] = 'rrcf-realtime'\n",
    "endpoint_config_name: Final[str] = model_name + 'EndpointConfig'\n",
    "endpoint_name: Final[str] = model_name + 'Endpoint'\n",
    "role: Final[str] = sagemaker.get_execution_role()"
   ]
  },
  {
   "cell_type": "code",
   "execution_count": 22,
   "id": "c7456c59",
   "metadata": {},
   "outputs": [
    {
     "name": "stdout",
     "output_type": "stream",
     "text": [
      "683313688378.dkr.ecr.us-east-1.amazonaws.com/sagemaker-scikit-learn:1.0-1-cpu-py3\n"
     ]
    }
   ],
   "source": [
    "# コンテナイメージの URI を取得\n",
    "container_image_uri: Final[str] = sagemaker.image_uris.retrieve(\n",
    "    \"sklearn\",  # SKLearn のマネージドコンテナを利用\n",
    "    sagemaker.session.Session().boto_region_name, # ECR のリージョンを指定\n",
    "    version='1.0-1', # SKLearn のバージョンを指定\n",
    "    instance_type = 'ml.c5.xlarge', # インスタンスタイプを指定\n",
    "    image_scope = 'inference' # 推論コンテナを指定\n",
    ")\n",
    "print(container_image_uri)"
   ]
  },
  {
   "cell_type": "markdown",
   "id": "2434a5d3",
   "metadata": {},
   "source": [
    "## c5.xlarge"
   ]
  },
  {
   "cell_type": "code",
   "execution_count": 37,
   "id": "8e97cb3d",
   "metadata": {},
   "outputs": [
    {
     "ename": "ClientError",
     "evalue": "An error occurred (ValidationException) when calling the CreateModel operation: Cannot create already existing model \"arn:aws:sagemaker:us-east-1:290000338583:model/rrcf-realtime\".",
     "output_type": "error",
     "traceback": [
      "\u001b[0;31m---------------------------------------------------------------------------\u001b[0m",
      "\u001b[0;31mClientError\u001b[0m                               Traceback (most recent call last)",
      "\u001b[0;32m/tmp/ipykernel_29591/823567626.py\u001b[0m in \u001b[0;36m<cell line: 2>\u001b[0;34m()\u001b[0m\n\u001b[1;32m      1\u001b[0m \u001b[0;31m# Model 作成\u001b[0m\u001b[0;34m\u001b[0m\u001b[0;34m\u001b[0m\u001b[0;34m\u001b[0m\u001b[0m\n\u001b[0;32m----> 2\u001b[0;31m response = sm_client.create_model(\n\u001b[0m\u001b[1;32m      3\u001b[0m     \u001b[0mModelName\u001b[0m\u001b[0;34m=\u001b[0m\u001b[0mmodel_name\u001b[0m\u001b[0;34m,\u001b[0m\u001b[0;34m\u001b[0m\u001b[0;34m\u001b[0m\u001b[0m\n\u001b[1;32m      4\u001b[0m     PrimaryContainer={\n\u001b[1;32m      5\u001b[0m         \u001b[0;34m'Image'\u001b[0m\u001b[0;34m:\u001b[0m \u001b[0mcontainer_image_uri\u001b[0m\u001b[0;34m,\u001b[0m\u001b[0;34m\u001b[0m\u001b[0;34m\u001b[0m\u001b[0m\n",
      "\u001b[0;32m~/anaconda3/envs/python3/lib/python3.8/site-packages/botocore/client.py\u001b[0m in \u001b[0;36m_api_call\u001b[0;34m(self, *args, **kwargs)\u001b[0m\n\u001b[1;32m    506\u001b[0m                 )\n\u001b[1;32m    507\u001b[0m             \u001b[0;31m# The \"self\" in this scope is referring to the BaseClient.\u001b[0m\u001b[0;34m\u001b[0m\u001b[0;34m\u001b[0m\u001b[0;34m\u001b[0m\u001b[0m\n\u001b[0;32m--> 508\u001b[0;31m             \u001b[0;32mreturn\u001b[0m \u001b[0mself\u001b[0m\u001b[0;34m.\u001b[0m\u001b[0m_make_api_call\u001b[0m\u001b[0;34m(\u001b[0m\u001b[0moperation_name\u001b[0m\u001b[0;34m,\u001b[0m \u001b[0mkwargs\u001b[0m\u001b[0;34m)\u001b[0m\u001b[0;34m\u001b[0m\u001b[0;34m\u001b[0m\u001b[0m\n\u001b[0m\u001b[1;32m    509\u001b[0m \u001b[0;34m\u001b[0m\u001b[0m\n\u001b[1;32m    510\u001b[0m         \u001b[0m_api_call\u001b[0m\u001b[0;34m.\u001b[0m\u001b[0m__name__\u001b[0m \u001b[0;34m=\u001b[0m \u001b[0mstr\u001b[0m\u001b[0;34m(\u001b[0m\u001b[0mpy_operation_name\u001b[0m\u001b[0;34m)\u001b[0m\u001b[0;34m\u001b[0m\u001b[0;34m\u001b[0m\u001b[0m\n",
      "\u001b[0;32m~/anaconda3/envs/python3/lib/python3.8/site-packages/botocore/client.py\u001b[0m in \u001b[0;36m_make_api_call\u001b[0;34m(self, operation_name, api_params)\u001b[0m\n\u001b[1;32m    909\u001b[0m             \u001b[0merror_code\u001b[0m \u001b[0;34m=\u001b[0m \u001b[0mparsed_response\u001b[0m\u001b[0;34m.\u001b[0m\u001b[0mget\u001b[0m\u001b[0;34m(\u001b[0m\u001b[0;34m\"Error\"\u001b[0m\u001b[0;34m,\u001b[0m \u001b[0;34m{\u001b[0m\u001b[0;34m}\u001b[0m\u001b[0;34m)\u001b[0m\u001b[0;34m.\u001b[0m\u001b[0mget\u001b[0m\u001b[0;34m(\u001b[0m\u001b[0;34m\"Code\"\u001b[0m\u001b[0;34m)\u001b[0m\u001b[0;34m\u001b[0m\u001b[0;34m\u001b[0m\u001b[0m\n\u001b[1;32m    910\u001b[0m             \u001b[0merror_class\u001b[0m \u001b[0;34m=\u001b[0m \u001b[0mself\u001b[0m\u001b[0;34m.\u001b[0m\u001b[0mexceptions\u001b[0m\u001b[0;34m.\u001b[0m\u001b[0mfrom_code\u001b[0m\u001b[0;34m(\u001b[0m\u001b[0merror_code\u001b[0m\u001b[0;34m)\u001b[0m\u001b[0;34m\u001b[0m\u001b[0;34m\u001b[0m\u001b[0m\n\u001b[0;32m--> 911\u001b[0;31m             \u001b[0;32mraise\u001b[0m \u001b[0merror_class\u001b[0m\u001b[0;34m(\u001b[0m\u001b[0mparsed_response\u001b[0m\u001b[0;34m,\u001b[0m \u001b[0moperation_name\u001b[0m\u001b[0;34m)\u001b[0m\u001b[0;34m\u001b[0m\u001b[0;34m\u001b[0m\u001b[0m\n\u001b[0m\u001b[1;32m    912\u001b[0m         \u001b[0;32melse\u001b[0m\u001b[0;34m:\u001b[0m\u001b[0;34m\u001b[0m\u001b[0;34m\u001b[0m\u001b[0m\n\u001b[1;32m    913\u001b[0m             \u001b[0;32mreturn\u001b[0m \u001b[0mparsed_response\u001b[0m\u001b[0;34m\u001b[0m\u001b[0;34m\u001b[0m\u001b[0m\n",
      "\u001b[0;31mClientError\u001b[0m: An error occurred (ValidationException) when calling the CreateModel operation: Cannot create already existing model \"arn:aws:sagemaker:us-east-1:290000338583:model/rrcf-realtime\"."
     ]
    }
   ],
   "source": [
    "# Model 作成\n",
    "response = sm_client.create_model(\n",
    "    ModelName=model_name,\n",
    "    PrimaryContainer={\n",
    "        'Image': container_image_uri,\n",
    "        'Environment': {\n",
    "            'SAGEMAKER_CONTAINER_LOG_LEVEL': '20',\n",
    "            'SAGEMAKER_PROGRAM': 'inference.py',\n",
    "            'SAGEMAKER_REGION': region,\n",
    "            'SAGEMAKER_SUBMIT_DIRECTORY': source_s3_uri}\n",
    "    },\n",
    "    ExecutionRoleArn=role,\n",
    ")\n",
    "# EndpointConfig 作成\n",
    "response = sm_client.create_endpoint_config(\n",
    "    EndpointConfigName=endpoint_config_name,\n",
    "    ProductionVariants=[\n",
    "        {\n",
    "            'VariantName': 'AllTrafic',\n",
    "            'ModelName': model_name,\n",
    "            'InitialInstanceCount':1,\n",
    "            'InstanceType': 'ml.c5.xlarge',\n",
    "        },\n",
    "    ]\n",
    ")\n",
    "# Endpoint 作成\n",
    "response = sm_client.create_endpoint(\n",
    "    EndpointName=endpoint_name,\n",
    "    EndpointConfigName=endpoint_config_name,\n",
    ")\n",
    "# Endpoint が有効化されるまで待つ\n",
    "endpoint_inservice_waiter.wait(\n",
    "    EndpointName=endpoint_name,\n",
    "    WaiterConfig={'Delay': 5,}\n",
    ")"
   ]
  },
  {
   "cell_type": "markdown",
   "id": "4a1400fd",
   "metadata": {},
   "source": [
    "## リアルタイム推論"
   ]
  },
  {
   "cell_type": "markdown",
   "id": "ac17b40e",
   "metadata": {},
   "source": [
    "### お行儀のいいAPI呼び出し"
   ]
  },
  {
   "cell_type": "code",
   "execution_count": 6,
   "id": "eb7d3a72",
   "metadata": {},
   "outputs": [],
   "source": [
    "from multiprocessing import Pool"
   ]
  },
  {
   "cell_type": "code",
   "execution_count": 7,
   "id": "8a54ef61",
   "metadata": {},
   "outputs": [],
   "source": [
    "def invoke_rt_endpoint(file_name):\n",
    "    with open(file_name,'rt') as f:\n",
    "        csv = f.read()\n",
    "    response = smr_client.invoke_endpoint(\n",
    "        EndpointName=endpoint_name, \n",
    "        Body=csv,\n",
    "        ContentType='text/csv',\n",
    "        Accept='text/csv',\n",
    "    )"
   ]
  },
  {
   "cell_type": "code",
   "execution_count": 39,
   "id": "149e969c",
   "metadata": {},
   "outputs": [
    {
     "name": "stdout",
     "output_type": "stream",
     "text": [
      "CPU times: user 306 ms, sys: 102 ms, total: 409 ms\n",
      "Wall time: 2h 12min 35s\n"
     ]
    }
   ],
   "source": [
    "%%time\n",
    "with Pool(processes=4) as pool:\n",
    "        pool.map(invoke_rt_endpoint, file_name_list)"
   ]
  },
  {
   "cell_type": "markdown",
   "id": "8ab290cb",
   "metadata": {},
   "source": [
    "## 過負荷"
   ]
  },
  {
   "cell_type": "code",
   "execution_count": 9,
   "id": "29074483",
   "metadata": {
    "scrolled": true
   },
   "outputs": [
    {
     "ename": "ClientError",
     "evalue": "An error occurred (ModelError) when calling the InvokeEndpoint operation: Received server error (504) from primary with message \"<html>\r\n<head><title>504 Gateway Time-out</title></head>\r\n<body bgcolor=\"white\">\r\n<center><h1>504 Gateway Time-out</h1></center>\r\n<hr><center>nginx/1.14.0 (Ubuntu)</center>\r\n</body>\r\n</html>\r\n\". See https://us-east-1.console.aws.amazon.com/cloudwatch/home?region=us-east-1#logEventViewer:group=/aws/sagemaker/Endpoints/rrcf-realtimeEndpoint in account 290000338583 for more information.",
     "output_type": "error",
     "traceback": [
      "\u001b[0;31m---------------------------------------------------------------------------\u001b[0m",
      "\u001b[0;31mRemoteTraceback\u001b[0m                           Traceback (most recent call last)",
      "\u001b[0;31mRemoteTraceback\u001b[0m: \n\"\"\"\nTraceback (most recent call last):\n  File \"/home/ec2-user/anaconda3/envs/python3/lib/python3.8/multiprocessing/pool.py\", line 125, in worker\n    result = (True, func(*args, **kwds))\n  File \"/home/ec2-user/anaconda3/envs/python3/lib/python3.8/multiprocessing/pool.py\", line 48, in mapstar\n    return list(map(*args))\n  File \"/tmp/ipykernel_7283/1041349493.py\", line 4, in invoke_rt_endpoint\n    response = smr_client.invoke_endpoint(\n  File \"/home/ec2-user/anaconda3/envs/python3/lib/python3.8/site-packages/botocore/client.py\", line 395, in _api_call\n    return self._make_api_call(operation_name, kwargs)\n  File \"/home/ec2-user/anaconda3/envs/python3/lib/python3.8/site-packages/botocore/client.py\", line 725, in _make_api_call\n    raise error_class(parsed_response, operation_name)\nbotocore.errorfactory.ModelError: An error occurred (ModelError) when calling the InvokeEndpoint operation: Received server error (504) from primary with message \"<html>\r\n<head><title>504 Gateway Time-out</title></head>\r\n<body bgcolor=\"white\">\r\n<center><h1>504 Gateway Time-out</h1></center>\r\n<hr><center>nginx/1.14.0 (Ubuntu)</center>\r\n</body>\r\n</html>\r\n\". See https://us-east-1.console.aws.amazon.com/cloudwatch/home?region=us-east-1#logEventViewer:group=/aws/sagemaker/Endpoints/rrcf-realtimeEndpoint in account 290000338583 for more information.\n\"\"\"",
      "\nThe above exception was the direct cause of the following exception:\n",
      "\u001b[0;31mClientError\u001b[0m                               Traceback (most recent call last)",
      "\u001b[0;32m<timed exec>\u001b[0m in \u001b[0;36m<module>\u001b[0;34m\u001b[0m\n",
      "\u001b[0;32m~/anaconda3/envs/python3/lib/python3.8/multiprocessing/pool.py\u001b[0m in \u001b[0;36mmap\u001b[0;34m(self, func, iterable, chunksize)\u001b[0m\n\u001b[1;32m    362\u001b[0m         \u001b[0;32min\u001b[0m \u001b[0ma\u001b[0m \u001b[0mlist\u001b[0m \u001b[0mthat\u001b[0m \u001b[0;32mis\u001b[0m \u001b[0mreturned\u001b[0m\u001b[0;34m.\u001b[0m\u001b[0;34m\u001b[0m\u001b[0;34m\u001b[0m\u001b[0m\n\u001b[1;32m    363\u001b[0m         '''\n\u001b[0;32m--> 364\u001b[0;31m         \u001b[0;32mreturn\u001b[0m \u001b[0mself\u001b[0m\u001b[0;34m.\u001b[0m\u001b[0m_map_async\u001b[0m\u001b[0;34m(\u001b[0m\u001b[0mfunc\u001b[0m\u001b[0;34m,\u001b[0m \u001b[0miterable\u001b[0m\u001b[0;34m,\u001b[0m \u001b[0mmapstar\u001b[0m\u001b[0;34m,\u001b[0m \u001b[0mchunksize\u001b[0m\u001b[0;34m)\u001b[0m\u001b[0;34m.\u001b[0m\u001b[0mget\u001b[0m\u001b[0;34m(\u001b[0m\u001b[0;34m)\u001b[0m\u001b[0;34m\u001b[0m\u001b[0;34m\u001b[0m\u001b[0m\n\u001b[0m\u001b[1;32m    365\u001b[0m \u001b[0;34m\u001b[0m\u001b[0m\n\u001b[1;32m    366\u001b[0m     \u001b[0;32mdef\u001b[0m \u001b[0mstarmap\u001b[0m\u001b[0;34m(\u001b[0m\u001b[0mself\u001b[0m\u001b[0;34m,\u001b[0m \u001b[0mfunc\u001b[0m\u001b[0;34m,\u001b[0m \u001b[0miterable\u001b[0m\u001b[0;34m,\u001b[0m \u001b[0mchunksize\u001b[0m\u001b[0;34m=\u001b[0m\u001b[0;32mNone\u001b[0m\u001b[0;34m)\u001b[0m\u001b[0;34m:\u001b[0m\u001b[0;34m\u001b[0m\u001b[0;34m\u001b[0m\u001b[0m\n",
      "\u001b[0;32m~/anaconda3/envs/python3/lib/python3.8/multiprocessing/pool.py\u001b[0m in \u001b[0;36mget\u001b[0;34m(self, timeout)\u001b[0m\n\u001b[1;32m    769\u001b[0m             \u001b[0;32mreturn\u001b[0m \u001b[0mself\u001b[0m\u001b[0;34m.\u001b[0m\u001b[0m_value\u001b[0m\u001b[0;34m\u001b[0m\u001b[0;34m\u001b[0m\u001b[0m\n\u001b[1;32m    770\u001b[0m         \u001b[0;32melse\u001b[0m\u001b[0;34m:\u001b[0m\u001b[0;34m\u001b[0m\u001b[0;34m\u001b[0m\u001b[0m\n\u001b[0;32m--> 771\u001b[0;31m             \u001b[0;32mraise\u001b[0m \u001b[0mself\u001b[0m\u001b[0;34m.\u001b[0m\u001b[0m_value\u001b[0m\u001b[0;34m\u001b[0m\u001b[0;34m\u001b[0m\u001b[0m\n\u001b[0m\u001b[1;32m    772\u001b[0m \u001b[0;34m\u001b[0m\u001b[0m\n\u001b[1;32m    773\u001b[0m     \u001b[0;32mdef\u001b[0m \u001b[0m_set\u001b[0m\u001b[0;34m(\u001b[0m\u001b[0mself\u001b[0m\u001b[0;34m,\u001b[0m \u001b[0mi\u001b[0m\u001b[0;34m,\u001b[0m \u001b[0mobj\u001b[0m\u001b[0;34m)\u001b[0m\u001b[0;34m:\u001b[0m\u001b[0;34m\u001b[0m\u001b[0;34m\u001b[0m\u001b[0m\n",
      "\u001b[0;31mClientError\u001b[0m: An error occurred (ModelError) when calling the InvokeEndpoint operation: Received server error (504) from primary with message \"<html>\r\n<head><title>504 Gateway Time-out</title></head>\r\n<body bgcolor=\"white\">\r\n<center><h1>504 Gateway Time-out</h1></center>\r\n<hr><center>nginx/1.14.0 (Ubuntu)</center>\r\n</body>\r\n</html>\r\n\". See https://us-east-1.console.aws.amazon.com/cloudwatch/home?region=us-east-1#logEventViewer:group=/aws/sagemaker/Endpoints/rrcf-realtimeEndpoint in account 290000338583 for more information."
     ]
    }
   ],
   "source": [
    "%%time\n",
    "with Pool(processes=8) as pool:\n",
    "        pool.map(invoke_rt_endpoint, file_name_list)"
   ]
  },
  {
   "cell_type": "code",
   "execution_count": 10,
   "id": "16f5ea08",
   "metadata": {},
   "outputs": [
    {
     "data": {
      "text/plain": [
       "{'ResponseMetadata': {'RequestId': 'df0e0d6f-a4ac-4409-9247-84e65e57ca32',\n",
       "  'HTTPStatusCode': 200,\n",
       "  'HTTPHeaders': {'x-amzn-requestid': 'df0e0d6f-a4ac-4409-9247-84e65e57ca32',\n",
       "   'content-type': 'application/x-amz-json-1.1',\n",
       "   'content-length': '0',\n",
       "   'date': 'Sat, 17 Sep 2022 14:31:15 GMT'},\n",
       "  'RetryAttempts': 0}}"
      ]
     },
     "execution_count": 10,
     "metadata": {},
     "output_type": "execute_result"
    }
   ],
   "source": [
    "sm_client.delete_endpoint(EndpointName=endpoint_name)\n",
    "sm_client.delete_endpoint_config(EndpointConfigName=endpoint_config_name)\n",
    "sm_client.delete_model(ModelName=model_name)"
   ]
  },
  {
   "cell_type": "code",
   "execution_count": null,
   "id": "865d53bf",
   "metadata": {},
   "outputs": [],
   "source": []
  }
 ],
 "metadata": {
  "kernelspec": {
   "display_name": "conda_python3",
   "language": "python",
   "name": "conda_python3"
  },
  "language_info": {
   "codemirror_mode": {
    "name": "ipython",
    "version": 3
   },
   "file_extension": ".py",
   "mimetype": "text/x-python",
   "name": "python",
   "nbconvert_exporter": "python",
   "pygments_lexer": "ipython3",
   "version": "3.8.12"
  }
 },
 "nbformat": 4,
 "nbformat_minor": 5
}
