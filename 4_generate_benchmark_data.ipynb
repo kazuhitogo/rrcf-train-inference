{
 "cells": [
  {
   "cell_type": "code",
   "execution_count": null,
   "id": "efb26b03",
   "metadata": {},
   "outputs": [],
   "source": [
    "import numpy as np\n",
    "from matplotlib import pyplot as plt\n",
    "import pandas as pd\n",
    "import os\n",
    "import sagemaker\n",
    "from scipy import signal"
   ]
  },
  {
   "cell_type": "code",
   "execution_count": null,
   "id": "8cdaa910",
   "metadata": {},
   "outputs": [],
   "source": [
    "n = 50000\n",
    "noise_rate = 0.001"
   ]
  },
  {
   "cell_type": "code",
   "execution_count": null,
   "id": "62fe78ee",
   "metadata": {},
   "outputs": [],
   "source": [
    "data_dir = 'bench_data'\n",
    "!rm -rf {data_dir}\n",
    "!mkdir -p {data_dir}\n",
    "for i in range(1000):\n",
    "    save_dir = f'{data_dir}/{str(i).zfill(5)}/'\n",
    "    !rm -rf {save_dir}\n",
    "    !mkdir -p {save_dir}\n",
    "    sin_wave = np.sin(np.arange(n)*np.random.rand()/100-(np.random.rand()-0.5)*np.pi*2)\n",
    "    sin_wave[np.random.choice(n, int(n*noise_rate))] += (np.random.rand(int(n*noise_rate))-0.5)*3\n",
    "    train_data = pd.DataFrame(sin_wave)\n",
    "    train_data.to_csv(os.path.join(save_dir,'data.csv'),index=False)"
   ]
  },
  {
   "cell_type": "code",
   "execution_count": null,
   "id": "e2c7b148",
   "metadata": {},
   "outputs": [],
   "source": []
  }
 ],
 "metadata": {
  "kernelspec": {
   "display_name": "conda_python3",
   "language": "python",
   "name": "conda_python3"
  },
  "language_info": {
   "codemirror_mode": {
    "name": "ipython",
    "version": 3
   },
   "file_extension": ".py",
   "mimetype": "text/x-python",
   "name": "python",
   "nbconvert_exporter": "python",
   "pygments_lexer": "ipython3",
   "version": "3.8.12"
  }
 },
 "nbformat": 4,
 "nbformat_minor": 5
}
